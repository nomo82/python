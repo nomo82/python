{
  "nbformat": 4,
  "nbformat_minor": 0,
  "metadata": {
    "colab": {
      "provenance": []
    },
    "kernelspec": {
      "name": "python3",
      "display_name": "Python 3"
    },
    "language_info": {
      "name": "python"
    }
  },
  "cells": [
    {
      "cell_type": "code",
      "execution_count": 1,
      "metadata": {
        "colab": {
          "base_uri": "https://localhost:8080/"
        },
        "id": "vyMr7Bomw-LJ",
        "outputId": "2efcb820-8827-452f-f7ad-a20cff5859d6"
      },
      "outputs": [
        {
          "output_type": "stream",
          "name": "stdout",
          "text": [
            "Archivos .xlsx encontrados: ['DLP2-NOVIEMBRE - 4 of 11.xlsx', 'DLP2-NOVIEMBRE - 10 of 11.xlsx', 'DLP2-NOVIEMBRE - 7 of 11.xlsx', 'DLP2-NOVIEMBRE - 1 of 11.xlsx', 'DLP2-NOVIEMBRE - 8 of 11.xlsx', 'DLP2-NOVIEMBRE - 2 of 11.xlsx', 'DLP2-NOVIEMBRE - 3 of 11.xlsx', 'DLP2-NOVIEMBRE - 5 of 11.xlsx', 'DLP2-NOVIEMBRE - 6 of 11.xlsx', 'DLP2-NOVIEMBRE - 11 of 11.xlsx', 'DLP2-NOVIEMBRE - 9 of 11.xlsx']\n",
            "Procesando archivo: DLP2-NOVIEMBRE - 4 of 11.xlsx...\n",
            "Hojas en DLP2-NOVIEMBRE - 4 of 11.xlsx: ['Hoja 1']\n",
            "Procesando hoja 'Hoja 1' de DLP2-NOVIEMBRE - 4 of 11.xlsx con 116922 filas.\n",
            "Procesando archivo: DLP2-NOVIEMBRE - 10 of 11.xlsx...\n",
            "Hojas en DLP2-NOVIEMBRE - 10 of 11.xlsx: ['Hoja 1']\n",
            "Procesando hoja 'Hoja 1' de DLP2-NOVIEMBRE - 10 of 11.xlsx con 116922 filas.\n",
            "Procesando archivo: DLP2-NOVIEMBRE - 7 of 11.xlsx...\n",
            "Hojas en DLP2-NOVIEMBRE - 7 of 11.xlsx: ['Hoja 1']\n",
            "Procesando hoja 'Hoja 1' de DLP2-NOVIEMBRE - 7 of 11.xlsx con 116922 filas.\n",
            "Procesando archivo: DLP2-NOVIEMBRE - 1 of 11.xlsx...\n",
            "Hojas en DLP2-NOVIEMBRE - 1 of 11.xlsx: ['Hoja 1']\n",
            "Procesando hoja 'Hoja 1' de DLP2-NOVIEMBRE - 1 of 11.xlsx con 116922 filas.\n",
            "Procesando archivo: DLP2-NOVIEMBRE - 8 of 11.xlsx...\n",
            "Hojas en DLP2-NOVIEMBRE - 8 of 11.xlsx: ['Hoja 1']\n",
            "Procesando hoja 'Hoja 1' de DLP2-NOVIEMBRE - 8 of 11.xlsx con 116922 filas.\n",
            "Procesando archivo: DLP2-NOVIEMBRE - 2 of 11.xlsx...\n",
            "Hojas en DLP2-NOVIEMBRE - 2 of 11.xlsx: ['Hoja 1']\n",
            "Procesando hoja 'Hoja 1' de DLP2-NOVIEMBRE - 2 of 11.xlsx con 116922 filas.\n",
            "Procesando archivo: DLP2-NOVIEMBRE - 3 of 11.xlsx...\n",
            "Hojas en DLP2-NOVIEMBRE - 3 of 11.xlsx: ['Hoja 1']\n",
            "Procesando hoja 'Hoja 1' de DLP2-NOVIEMBRE - 3 of 11.xlsx con 116922 filas.\n",
            "Procesando archivo: DLP2-NOVIEMBRE - 5 of 11.xlsx...\n",
            "Hojas en DLP2-NOVIEMBRE - 5 of 11.xlsx: ['Hoja 1']\n",
            "Procesando hoja 'Hoja 1' de DLP2-NOVIEMBRE - 5 of 11.xlsx con 116922 filas.\n",
            "Procesando archivo: DLP2-NOVIEMBRE - 6 of 11.xlsx...\n",
            "Hojas en DLP2-NOVIEMBRE - 6 of 11.xlsx: ['Hoja 1']\n",
            "Procesando hoja 'Hoja 1' de DLP2-NOVIEMBRE - 6 of 11.xlsx con 116922 filas.\n",
            "Procesando archivo: DLP2-NOVIEMBRE - 11 of 11.xlsx...\n",
            "Hojas en DLP2-NOVIEMBRE - 11 of 11.xlsx: ['Hoja 1']\n",
            "Procesando hoja 'Hoja 1' de DLP2-NOVIEMBRE - 11 of 11.xlsx con 6749 filas.\n",
            "Procesando archivo: DLP2-NOVIEMBRE - 9 of 11.xlsx...\n",
            "Hojas en DLP2-NOVIEMBRE - 9 of 11.xlsx: ['Hoja 1']\n",
            "Procesando hoja 'Hoja 1' de DLP2-NOVIEMBRE - 9 of 11.xlsx con 116922 filas.\n",
            "Datos exportados a /content/datos_combinados_DLP_Noviembre.csv con separador ';'.\n"
          ]
        }
      ],
      "source": [
        "import os\n",
        "import pandas as pd\n",
        "\n",
        "# Ruta al directorio local\n",
        "local_directory = r\"/content/\"\n",
        "\n",
        "\n",
        "# Verificar si el directorio existe\n",
        "if not os.path.isdir(local_directory):\n",
        "    print(f\"El directorio '{local_directory}' no existe o no es accesible. Verifica la ruta.\")\n",
        "    exit()\n",
        "\n",
        "# Listar archivos en el directorio\n",
        "xlsx_files = [file for file in os.listdir(local_directory) if file.endswith('.xlsx')]\n",
        "\n",
        "# Diagnóstico: Mostrar archivos encontrados\n",
        "if not xlsx_files:\n",
        "    print(\"No se encontraron archivos .xlsx en el directorio.\")\n",
        "    exit()\n",
        "else:\n",
        "    print(f\"Archivos .xlsx encontrados: {xlsx_files}\")\n",
        "\n",
        "# DataFrame para consolidar los datos\n",
        "all_data = pd.DataFrame()\n",
        "\n",
        "# Procesar cada archivo .xlsx\n",
        "for file_name in xlsx_files:\n",
        "    file_path = os.path.join(local_directory, file_name)\n",
        "    print(f\"Procesando archivo: {file_name}...\")\n",
        "\n",
        "    try:\n",
        "        # Leer todas las hojas del archivo Excel\n",
        "        df = pd.read_excel(file_path, engine='openpyxl', sheet_name=None)\n",
        "        print(f\"Hojas en {file_name}: {list(df.keys())}\")\n",
        "\n",
        "        # Procesar cada hoja\n",
        "        for sheet_name, sheet_data in df.items():\n",
        "            if not sheet_data.empty:\n",
        "                try:\n",
        "                    print(f\"Procesando hoja '{sheet_name}' de {file_name} con {sheet_data.shape[0]} filas.\")\n",
        "                    # Agregar metadatos del archivo\n",
        "                    sheet_data['Nombre de archivo'] = file_name\n",
        "                    sheet_data['Nombre de hoja'] = sheet_name\n",
        "                    # Concatenar al DataFrame principal\n",
        "                    all_data = pd.concat([all_data, sheet_data], ignore_index=True)\n",
        "                except Exception as e:\n",
        "                    print(f\"Error procesando hoja '{sheet_name}' en archivo '{file_name}': {e}\")\n",
        "            else:\n",
        "                print(f\"La hoja '{sheet_name}' de {file_name} está vacía.\")\n",
        "    except Exception as e:\n",
        "        print(f\"Error procesando archivo {file_name}: {e}\")\n",
        "        continue\n",
        "\n",
        "# Verificar y exportar datos\n",
        "if not all_data.empty:\n",
        "    output_file = os.path.join(local_directory, 'datos_combinados_DLP_Noviembre.csv')\n",
        "    try:\n",
        "        all_data.to_csv(output_file, index=False, sep=';', encoding='utf-8')\n",
        "        print(f\"Datos exportados a {output_file} con separador ';'.\")\n",
        "    except Exception as e:\n",
        "        print(f\"Error al exportar datos: {e}\")\n",
        "else:\n",
        "    print(\"No se encontraron datos para exportar.\")\n"
      ]
    },
    {
      "cell_type": "code",
      "source": [
        "#Descargar archivo DLP Noviembre al PC\n",
        "from google.colab import files\n",
        "files.download('datos_combinados_DLP_Noviembre.csv')"
      ],
      "metadata": {
        "colab": {
          "base_uri": "https://localhost:8080/",
          "height": 17
        },
        "id": "HgcWSBHfx4fk",
        "outputId": "d1441850-1960-4dbe-be50-fe7b08c3d1fa"
      },
      "execution_count": 2,
      "outputs": [
        {
          "output_type": "display_data",
          "data": {
            "text/plain": [
              "<IPython.core.display.Javascript object>"
            ],
            "application/javascript": [
              "\n",
              "    async function download(id, filename, size) {\n",
              "      if (!google.colab.kernel.accessAllowed) {\n",
              "        return;\n",
              "      }\n",
              "      const div = document.createElement('div');\n",
              "      const label = document.createElement('label');\n",
              "      label.textContent = `Downloading \"${filename}\": `;\n",
              "      div.appendChild(label);\n",
              "      const progress = document.createElement('progress');\n",
              "      progress.max = size;\n",
              "      div.appendChild(progress);\n",
              "      document.body.appendChild(div);\n",
              "\n",
              "      const buffers = [];\n",
              "      let downloaded = 0;\n",
              "\n",
              "      const channel = await google.colab.kernel.comms.open(id);\n",
              "      // Send a message to notify the kernel that we're ready.\n",
              "      channel.send({})\n",
              "\n",
              "      for await (const message of channel.messages) {\n",
              "        // Send a message to notify the kernel that we're ready.\n",
              "        channel.send({})\n",
              "        if (message.buffers) {\n",
              "          for (const buffer of message.buffers) {\n",
              "            buffers.push(buffer);\n",
              "            downloaded += buffer.byteLength;\n",
              "            progress.value = downloaded;\n",
              "          }\n",
              "        }\n",
              "      }\n",
              "      const blob = new Blob(buffers, {type: 'application/binary'});\n",
              "      const a = document.createElement('a');\n",
              "      a.href = window.URL.createObjectURL(blob);\n",
              "      a.download = filename;\n",
              "      div.appendChild(a);\n",
              "      a.click();\n",
              "      div.remove();\n",
              "    }\n",
              "  "
            ]
          },
          "metadata": {}
        },
        {
          "output_type": "display_data",
          "data": {
            "text/plain": [
              "<IPython.core.display.Javascript object>"
            ],
            "application/javascript": [
              "download(\"download_ea316610-d440-49ce-a6a2-78220a3e695e\", \"datos_combinados_DLP_Noviembre.csv\", 791738332)"
            ]
          },
          "metadata": {}
        }
      ]
    }
  ]
}