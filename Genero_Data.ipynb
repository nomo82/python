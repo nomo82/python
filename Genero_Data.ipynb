{
  "nbformat": 4,
  "nbformat_minor": 0,
  "metadata": {
    "colab": {
      "provenance": []
    },
    "kernelspec": {
      "name": "python3",
      "display_name": "Python 3"
    },
    "language_info": {
      "name": "python"
    }
  },
  "cells": [
    {
      "cell_type": "code",
      "source": [
        "import pandas as pd"
      ],
      "metadata": {
        "id": "hkmisNgOx7Mc"
      },
      "execution_count": 1,
      "outputs": []
    },
    {
      "cell_type": "code",
      "source": [
        "from google.colab import drive\n",
        "drive.mount('/content/drive')"
      ],
      "metadata": {
        "colab": {
          "base_uri": "https://localhost:8080/"
        },
        "id": "hoTmQrc2zE1c",
        "outputId": "7c5f0ec5-d811-4fb7-df9b-8f0a6a05785a"
      },
      "execution_count": 2,
      "outputs": [
        {
          "output_type": "stream",
          "name": "stdout",
          "text": [
            "Mounted at /content/drive\n"
          ]
        }
      ]
    },
    {
      "cell_type": "code",
      "source": [
        "import os\n",
        "\n",
        "file_path = '/content/drive/MyDrive/Alexander Niño.lnk/2024/_Genero/nombres.csv'\n",
        "\n",
        "# Verificar si el archivo existe\n",
        "if os.path.exists(file_path):\n",
        "    print(\"El archivo existe.\")\n",
        "else:\n",
        "    print(\"El archivo no se encuentra en la ruta proporcionada.\")\n"
      ],
      "metadata": {
        "colab": {
          "base_uri": "https://localhost:8080/"
        },
        "id": "j-rU-vUnLD6K",
        "outputId": "8d4a5875-724d-4b10-86bd-e4e9044a67df"
      },
      "execution_count": 3,
      "outputs": [
        {
          "output_type": "stream",
          "name": "stdout",
          "text": [
            "El archivo existe.\n"
          ]
        }
      ]
    },
    {
      "cell_type": "code",
      "source": [
        "DataFrame = pd.read_csv('/content/drive/MyDrive/Alexander Niño.lnk/2024/_Genero/nombres.csv', encoding='ISO-8859-1', delimiter=';')"
      ],
      "metadata": {
        "id": "1_MPxsDw3k-2"
      },
      "execution_count": 4,
      "outputs": []
    },
    {
      "cell_type": "code",
      "source": [
        "!pip install gender-guesser"
      ],
      "metadata": {
        "colab": {
          "base_uri": "https://localhost:8080/"
        },
        "id": "3tm8l454-LO4",
        "outputId": "e258125a-5269-479c-caa0-304a51a23b7c"
      },
      "execution_count": 5,
      "outputs": [
        {
          "output_type": "stream",
          "name": "stdout",
          "text": [
            "Collecting gender-guesser\n",
            "  Downloading gender_guesser-0.4.0-py2.py3-none-any.whl.metadata (3.0 kB)\n",
            "Downloading gender_guesser-0.4.0-py2.py3-none-any.whl (379 kB)\n",
            "\u001b[?25l   \u001b[90m━━━━━━━━━━━━━━━━━━━━━━━━━━━━━━━━━━━━━━━━\u001b[0m \u001b[32m0.0/379.3 kB\u001b[0m \u001b[31m?\u001b[0m eta \u001b[36m-:--:--\u001b[0m\r\u001b[2K   \u001b[91m━━━━━━━━━━━━━━━━━━━━━\u001b[0m\u001b[91m╸\u001b[0m\u001b[90m━━━━━━━━━━━━━━━━━━\u001b[0m \u001b[32m204.8/379.3 kB\u001b[0m \u001b[31m5.9 MB/s\u001b[0m eta \u001b[36m0:00:01\u001b[0m\r\u001b[2K   \u001b[90m━━━━━━━━━━━━━━━━━━━━━━━━━━━━━━━━━━━━━━━━\u001b[0m \u001b[32m379.3/379.3 kB\u001b[0m \u001b[31m6.9 MB/s\u001b[0m eta \u001b[36m0:00:00\u001b[0m\n",
            "\u001b[?25hInstalling collected packages: gender-guesser\n",
            "Successfully installed gender-guesser-0.4.0\n"
          ]
        }
      ]
    },
    {
      "cell_type": "code",
      "source": [
        "!pip install names\n"
      ],
      "metadata": {
        "colab": {
          "base_uri": "https://localhost:8080/"
        },
        "id": "Nqs7Rw9q_gaj",
        "outputId": "5d0663c5-862c-4161-912d-4c1ba5c93a77"
      },
      "execution_count": 6,
      "outputs": [
        {
          "output_type": "stream",
          "name": "stdout",
          "text": [
            "Collecting names\n",
            "  Downloading names-0.3.0.tar.gz (789 kB)\n",
            "\u001b[?25l     \u001b[90m━━━━━━━━━━━━━━━━━━━━━━━━━━━━━━━━━━━━━━━━\u001b[0m \u001b[32m0.0/789.1 kB\u001b[0m \u001b[31m?\u001b[0m eta \u001b[36m-:--:--\u001b[0m\r\u001b[2K     \u001b[91m━━━━━━━━━━━━━━━━━━━━━━━━━━━━━━━━━━━\u001b[0m\u001b[90m╺\u001b[0m\u001b[90m━━━━\u001b[0m \u001b[32m696.3/789.1 kB\u001b[0m \u001b[31m20.0 MB/s\u001b[0m eta \u001b[36m0:00:01\u001b[0m\r\u001b[2K     \u001b[90m━━━━━━━━━━━━━━━━━━━━━━━━━━━━━━━━━━━━━━━━\u001b[0m \u001b[32m789.1/789.1 kB\u001b[0m \u001b[31m12.5 MB/s\u001b[0m eta \u001b[36m0:00:00\u001b[0m\n",
            "\u001b[?25h  Preparing metadata (setup.py) ... \u001b[?25l\u001b[?25hdone\n",
            "Building wheels for collected packages: names\n",
            "  Building wheel for names (setup.py) ... \u001b[?25l\u001b[?25hdone\n",
            "  Created wheel for names: filename=names-0.3.0-py3-none-any.whl size=803681 sha256=4b73d7a6b2058547ec12bf49ff18d2b460d06ac926298352ac5e3eab8399188f\n",
            "  Stored in directory: /root/.cache/pip/wheels/fc/9a/6f/78f4282bbcaa2d8c678b73c54c0bb1b7a04009f0d7cec79fce\n",
            "Successfully built names\n",
            "Installing collected packages: names\n",
            "Successfully installed names-0.3.0\n"
          ]
        }
      ]
    },
    {
      "cell_type": "code",
      "source": [
        "!pip install requests"
      ],
      "metadata": {
        "colab": {
          "base_uri": "https://localhost:8080/"
        },
        "id": "Gp3q4Y6kAANe",
        "outputId": "491501ec-2bea-4bd8-c54d-69dd411139ce"
      },
      "execution_count": 7,
      "outputs": [
        {
          "output_type": "stream",
          "name": "stdout",
          "text": [
            "Requirement already satisfied: requests in /usr/local/lib/python3.10/dist-packages (2.32.3)\n",
            "Requirement already satisfied: charset-normalizer<4,>=2 in /usr/local/lib/python3.10/dist-packages (from requests) (3.4.0)\n",
            "Requirement already satisfied: idna<4,>=2.5 in /usr/local/lib/python3.10/dist-packages (from requests) (3.10)\n",
            "Requirement already satisfied: urllib3<3,>=1.21.1 in /usr/local/lib/python3.10/dist-packages (from requests) (2.2.3)\n",
            "Requirement already satisfied: certifi>=2017.4.17 in /usr/local/lib/python3.10/dist-packages (from requests) (2024.8.30)\n"
          ]
        }
      ]
    },
    {
      "cell_type": "code",
      "source": [
        "import pandas as pd\n",
        "\n",
        "# Cargar el archivo CSV con el encoding y delimitador adecuado\n",
        "ruta_archivo = \"/content/drive/MyDrive/Alexander Niño.lnk/2024/_Genero/nombres.csv\"\n",
        "df = pd.read_csv(ruta_archivo, encoding='ISO-8859-1', delimiter=';')\n",
        "\n",
        "# Mostrar los nombres de las columnas\n",
        "print(\"Columnas del archivo:\", df.columns)\n"
      ],
      "metadata": {
        "colab": {
          "base_uri": "https://localhost:8080/"
        },
        "id": "D_MjNaROMRP0",
        "outputId": "6d00115c-3129-4aa5-e491-985a8d682e9d"
      },
      "execution_count": 8,
      "outputs": [
        {
          "output_type": "stream",
          "name": "stdout",
          "text": [
            "Columnas del archivo: Index(['nombres', 'genero'], dtype='object')\n"
          ]
        }
      ]
    },
    {
      "cell_type": "code",
      "source": [
        "# Limpiar los nombres de las columnas (eliminar espacios en blanco al principio y al final)\n",
        "df.columns = df.columns.str.strip()\n",
        "\n",
        "# Verificar nuevamente las columnas\n",
        "print(\"Columnas del archivo después de limpiar:\", df.columns)\n"
      ],
      "metadata": {
        "colab": {
          "base_uri": "https://localhost:8080/"
        },
        "id": "TXJ77cJhMUiR",
        "outputId": "954be3e3-880e-4cea-b53b-4da0efd487f7"
      },
      "execution_count": 9,
      "outputs": [
        {
          "output_type": "stream",
          "name": "stdout",
          "text": [
            "Columnas del archivo después de limpiar: Index(['nombres', 'genero'], dtype='object')\n"
          ]
        }
      ]
    },
    {
      "cell_type": "code",
      "source": [
        "import pandas as pd\n",
        "import gender_guesser.detector as gender\n",
        "import gspread\n",
        "\n",
        "# Cargar el detector de género\n",
        "detector = gender.Detector()\n",
        "\n",
        "def determinar_genero(nombre):\n",
        "    \"\"\"Determina el género basado en el primer nombre usando gender-guesser.\"\"\"\n",
        "    primer_nombre = nombre.split()[0].strip()\n",
        "    genero = detector.get_gender(primer_nombre)\n",
        "\n",
        "    if genero in ['male', 'female']:\n",
        "        return 'Masculino' if genero == 'male' else 'Femenino'\n",
        "    else:\n",
        "        return 'Desconocido'\n",
        "\n",
        "def procesar_csv(ruta_archivo):\n",
        "    \"\"\"Lee un archivo CSV y determina el género de los nombres.\"\"\"\n",
        "    # Ajuste de encoding para evitar problemas de decodificación\n",
        "    df = pd.read_csv(ruta_archivo, encoding='ISO-8859-1', delimiter=';')\n",
        "\n",
        "    # Limpiar los nombres de las columnas (eliminar espacios en blanco al principio y al final)\n",
        "    df.columns = df.columns.str.strip()\n",
        "\n",
        "    # Asegurarse de que hay una columna 'nombres'\n",
        "    if 'nombres' not in df.columns:\n",
        "        raise ValueError('El archivo CSV debe contener una columna \"nombres\".')\n",
        "\n",
        "    # Determinar el género para cada nombre\n",
        "    df['genero'] = df['nombres'].apply(determinar_genero)\n",
        "\n",
        "    # Guardar el resultado en un nuevo archivo CSV\n",
        "    df.to_csv('resultado_genero.csv', index=False, sep=';', encoding='utf-8')\n",
        "    print(\"Archivo procesado y guardado como 'resultado_genero.csv'\")\n",
        "\n",
        "# Cargar el archivo CSV\n",
        "ruta_archivo = \"/content/drive/MyDrive/Alexander Niño.lnk/2024/_Genero/nombres.csv\"\n",
        "procesar_csv(ruta_archivo)"
      ],
      "metadata": {
        "colab": {
          "base_uri": "https://localhost:8080/"
        },
        "id": "ljk_V85sODOs",
        "outputId": "767fb694-4262-4f40-800e-c4840ddf15cd"
      },
      "execution_count": 38,
      "outputs": [
        {
          "output_type": "stream",
          "name": "stdout",
          "text": [
            "Archivo procesado y guardado como 'resultado_genero.csv'\n"
          ]
        }
      ]
    },
    {
      "cell_type": "code",
      "source": [
        "#Descargar archivo Cruce de Genero de GoogleColab al PC\n",
        "from google.colab import files\n",
        "files.download('resultado_genero.csv')"
      ],
      "metadata": {
        "colab": {
          "base_uri": "https://localhost:8080/",
          "height": 17
        },
        "id": "bcsrMgrc5B31",
        "outputId": "3ed2b073-4550-44b3-f388-1c26601bb436"
      },
      "execution_count": 40,
      "outputs": [
        {
          "output_type": "display_data",
          "data": {
            "text/plain": [
              "<IPython.core.display.Javascript object>"
            ],
            "application/javascript": [
              "\n",
              "    async function download(id, filename, size) {\n",
              "      if (!google.colab.kernel.accessAllowed) {\n",
              "        return;\n",
              "      }\n",
              "      const div = document.createElement('div');\n",
              "      const label = document.createElement('label');\n",
              "      label.textContent = `Downloading \"${filename}\": `;\n",
              "      div.appendChild(label);\n",
              "      const progress = document.createElement('progress');\n",
              "      progress.max = size;\n",
              "      div.appendChild(progress);\n",
              "      document.body.appendChild(div);\n",
              "\n",
              "      const buffers = [];\n",
              "      let downloaded = 0;\n",
              "\n",
              "      const channel = await google.colab.kernel.comms.open(id);\n",
              "      // Send a message to notify the kernel that we're ready.\n",
              "      channel.send({})\n",
              "\n",
              "      for await (const message of channel.messages) {\n",
              "        // Send a message to notify the kernel that we're ready.\n",
              "        channel.send({})\n",
              "        if (message.buffers) {\n",
              "          for (const buffer of message.buffers) {\n",
              "            buffers.push(buffer);\n",
              "            downloaded += buffer.byteLength;\n",
              "            progress.value = downloaded;\n",
              "          }\n",
              "        }\n",
              "      }\n",
              "      const blob = new Blob(buffers, {type: 'application/binary'});\n",
              "      const a = document.createElement('a');\n",
              "      a.href = window.URL.createObjectURL(blob);\n",
              "      a.download = filename;\n",
              "      div.appendChild(a);\n",
              "      a.click();\n",
              "      div.remove();\n",
              "    }\n",
              "  "
            ]
          },
          "metadata": {}
        },
        {
          "output_type": "display_data",
          "data": {
            "text/plain": [
              "<IPython.core.display.Javascript object>"
            ],
            "application/javascript": [
              "download(\"download_828fba00-6cb0-4993-93db-801aff43cd9f\", \"resultado_genero.csv\", 18980)"
            ]
          },
          "metadata": {}
        }
      ]
    }
  ]
}