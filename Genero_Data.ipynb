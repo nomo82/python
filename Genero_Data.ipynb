{
  "nbformat": 4,
  "nbformat_minor": 0,
  "metadata": {
    "colab": {
      "provenance": []
    },
    "kernelspec": {
      "name": "python3",
      "display_name": "Python 3"
    },
    "language_info": {
      "name": "python"
    }
  },
  "cells": [
    {
      "cell_type": "code",
      "source": [
        "import pandas as pd"
      ],
      "metadata": {
        "id": "hkmisNgOx7Mc"
      },
      "execution_count": 1,
      "outputs": []
    },
    {
      "cell_type": "code",
      "source": [
        "from google.colab import drive\n",
        "drive.mount('/content/drive')"
      ],
      "metadata": {
        "colab": {
          "base_uri": "https://localhost:8080/"
        },
        "id": "hoTmQrc2zE1c",
        "outputId": "aac9202d-5d6d-442b-c670-12fea6f85f3f"
      },
      "execution_count": 2,
      "outputs": [
        {
          "output_type": "stream",
          "name": "stdout",
          "text": [
            "Mounted at /content/drive\n"
          ]
        }
      ]
    },
    {
      "cell_type": "code",
      "source": [
        "import os\n",
        "\n",
        "file_path = '/content/drive/MyDrive/Alexander Niño.lnk/2024/_Genero/nombres.csv'\n",
        "\n",
        "# Verificar si el archivo existe\n",
        "if os.path.exists(file_path):\n",
        "    print(\"El archivo existe.\")\n",
        "else:\n",
        "    print(\"El archivo no se encuentra en la ruta proporcionada.\")\n"
      ],
      "metadata": {
        "colab": {
          "base_uri": "https://localhost:8080/"
        },
        "id": "j-rU-vUnLD6K",
        "outputId": "14e0daa4-6734-4034-d465-288690ad693a"
      },
      "execution_count": 3,
      "outputs": [
        {
          "output_type": "stream",
          "name": "stdout",
          "text": [
            "El archivo existe.\n"
          ]
        }
      ]
    },
    {
      "cell_type": "code",
      "source": [
        "DataFrame = pd.read_csv('/content/drive/MyDrive/Alexander Niño.lnk/2024/_Genero/nombres.csv', encoding='ISO-8859-1', delimiter=';')"
      ],
      "metadata": {
        "id": "1_MPxsDw3k-2"
      },
      "execution_count": 4,
      "outputs": []
    },
    {
      "cell_type": "code",
      "source": [
        "!pip install gender-guesser"
      ],
      "metadata": {
        "colab": {
          "base_uri": "https://localhost:8080/"
        },
        "id": "3tm8l454-LO4",
        "outputId": "b655d5e8-8fe1-4520-94e6-9cc3aa53aa53"
      },
      "execution_count": 5,
      "outputs": [
        {
          "output_type": "stream",
          "name": "stdout",
          "text": [
            "Collecting gender-guesser\n",
            "  Downloading gender_guesser-0.4.0-py2.py3-none-any.whl.metadata (3.0 kB)\n",
            "Downloading gender_guesser-0.4.0-py2.py3-none-any.whl (379 kB)\n",
            "\u001b[?25l   \u001b[90m━━━━━━━━━━━━━━━━━━━━━━━━━━━━━━━━━━━━━━━━\u001b[0m \u001b[32m0.0/379.3 kB\u001b[0m \u001b[31m?\u001b[0m eta \u001b[36m-:--:--\u001b[0m\r\u001b[2K   \u001b[90m━━━━━━━━━━━━━━━━━━━━━━━━━━━━━━━━━━━━━━━━\u001b[0m \u001b[32m379.3/379.3 kB\u001b[0m \u001b[31m12.1 MB/s\u001b[0m eta \u001b[36m0:00:00\u001b[0m\n",
            "\u001b[?25hInstalling collected packages: gender-guesser\n",
            "Successfully installed gender-guesser-0.4.0\n"
          ]
        }
      ]
    },
    {
      "cell_type": "code",
      "source": [
        "!pip install names\n"
      ],
      "metadata": {
        "colab": {
          "base_uri": "https://localhost:8080/"
        },
        "id": "Nqs7Rw9q_gaj",
        "outputId": "b39c5252-389a-4ba2-f4a3-0d5786487ba3"
      },
      "execution_count": 6,
      "outputs": [
        {
          "output_type": "stream",
          "name": "stdout",
          "text": [
            "Collecting names\n",
            "  Downloading names-0.3.0.tar.gz (789 kB)\n",
            "\u001b[?25l     \u001b[90m━━━━━━━━━━━━━━━━━━━━━━━━━━━━━━━━━━━━━━━━\u001b[0m \u001b[32m0.0/789.1 kB\u001b[0m \u001b[31m?\u001b[0m eta \u001b[36m-:--:--\u001b[0m\r\u001b[2K     \u001b[91m━━━━━━━━━━━━━━━━━━━━━━━━━━━━━━━━━━━━━━━\u001b[0m\u001b[91m╸\u001b[0m \u001b[32m788.5/789.1 kB\u001b[0m \u001b[31m32.7 MB/s\u001b[0m eta \u001b[36m0:00:01\u001b[0m\r\u001b[2K     \u001b[90m━━━━━━━━━━━━━━━━━━━━━━━━━━━━━━━━━━━━━━━━\u001b[0m \u001b[32m789.1/789.1 kB\u001b[0m \u001b[31m17.2 MB/s\u001b[0m eta \u001b[36m0:00:00\u001b[0m\n",
            "\u001b[?25h  Preparing metadata (setup.py) ... \u001b[?25l\u001b[?25hdone\n",
            "Building wheels for collected packages: names\n",
            "  Building wheel for names (setup.py) ... \u001b[?25l\u001b[?25hdone\n",
            "  Created wheel for names: filename=names-0.3.0-py3-none-any.whl size=803681 sha256=0a5fe28f941502eba0039626ebaf565d1feffbcc2f01b6fe3bdcfa81627bc765\n",
            "  Stored in directory: /root/.cache/pip/wheels/fc/9a/6f/78f4282bbcaa2d8c678b73c54c0bb1b7a04009f0d7cec79fce\n",
            "Successfully built names\n",
            "Installing collected packages: names\n",
            "Successfully installed names-0.3.0\n"
          ]
        }
      ]
    },
    {
      "cell_type": "code",
      "source": [
        "!pip install requests"
      ],
      "metadata": {
        "colab": {
          "base_uri": "https://localhost:8080/"
        },
        "id": "Gp3q4Y6kAANe",
        "outputId": "a59524db-3835-465d-e324-56a8845c749b"
      },
      "execution_count": 7,
      "outputs": [
        {
          "output_type": "stream",
          "name": "stdout",
          "text": [
            "Requirement already satisfied: requests in /usr/local/lib/python3.10/dist-packages (2.32.3)\n",
            "Requirement already satisfied: charset-normalizer<4,>=2 in /usr/local/lib/python3.10/dist-packages (from requests) (3.4.0)\n",
            "Requirement already satisfied: idna<4,>=2.5 in /usr/local/lib/python3.10/dist-packages (from requests) (3.10)\n",
            "Requirement already satisfied: urllib3<3,>=1.21.1 in /usr/local/lib/python3.10/dist-packages (from requests) (2.2.3)\n",
            "Requirement already satisfied: certifi>=2017.4.17 in /usr/local/lib/python3.10/dist-packages (from requests) (2024.8.30)\n"
          ]
        }
      ]
    },
    {
      "cell_type": "code",
      "source": [
        "import pandas as pd\n",
        "\n",
        "# Cargar el archivo CSV con el encoding y delimitador adecuado\n",
        "ruta_archivo = \"/content/drive/MyDrive/Alexander Niño.lnk/2024/_Genero/nombres.csv\"\n",
        "df = pd.read_csv(ruta_archivo, encoding='ISO-8859-1', delimiter=';')\n",
        "\n",
        "# Mostrar los nombres de las columnas\n",
        "print(\"Columnas del archivo:\", df.columns)\n"
      ],
      "metadata": {
        "colab": {
          "base_uri": "https://localhost:8080/"
        },
        "id": "D_MjNaROMRP0",
        "outputId": "8f47bc49-ed2c-4719-b29d-372fb75b6198"
      },
      "execution_count": 8,
      "outputs": [
        {
          "output_type": "stream",
          "name": "stdout",
          "text": [
            "Columnas del archivo: Index(['nombres', 'genero'], dtype='object')\n"
          ]
        }
      ]
    },
    {
      "cell_type": "code",
      "source": [
        "# Limpiar los nombres de las columnas (eliminar espacios en blanco al principio y al final)\n",
        "df.columns = df.columns.str.strip()\n",
        "\n",
        "# Verificar nuevamente las columnas\n",
        "print(\"Columnas del archivo después de limpiar:\", df.columns)\n"
      ],
      "metadata": {
        "colab": {
          "base_uri": "https://localhost:8080/"
        },
        "id": "TXJ77cJhMUiR",
        "outputId": "e861761f-a7bc-4379-88d7-3e0ce3d0ce96"
      },
      "execution_count": 9,
      "outputs": [
        {
          "output_type": "stream",
          "name": "stdout",
          "text": [
            "Columnas del archivo después de limpiar: Index(['nombres', 'genero'], dtype='object')\n"
          ]
        }
      ]
    },
    {
      "cell_type": "code",
      "source": [
        "import pandas as pd\n",
        "import gender_guesser.detector as gender\n",
        "import gspread\n",
        "\n",
        "# Cargar el detector de género\n",
        "detector = gender.Detector()\n",
        "\n",
        "def determinar_genero(nombre):\n",
        "    \"\"\"Determina el género basado en el primer nombre usando gender-guesser.\"\"\"\n",
        "    if not isinstance(nombre, str) or not nombre.strip():  # Verificar si es cadena y no está vacío\n",
        "        return 'Desconocido'\n",
        "\n",
        "    primer_nombre = nombre.split()[0].strip()\n",
        "    genero = detector.get_gender(primer_nombre)\n",
        "\n",
        "    if genero in ['male', 'female']:\n",
        "        return 'Masculino' if genero == 'male' else 'Femenino'\n",
        "    else:\n",
        "        return 'Desconocido'\n",
        "\n",
        "def procesar_csv(ruta_archivo):\n",
        "    \"\"\"Lee un archivo CSV y determina el género de los nombres.\"\"\"\n",
        "    # Ajuste de encoding para evitar problemas de decodificación\n",
        "    df = pd.read_csv(ruta_archivo, encoding='ISO-8859-1', delimiter=';')\n",
        "\n",
        "    # Limpiar los nombres de las columnas (eliminar espacios en blanco al principio y al final)\n",
        "    df.columns = df.columns.str.strip()\n",
        "\n",
        "    # Asegurarse de que hay una columna 'nombres'\n",
        "    if 'nombres' not in df.columns:\n",
        "        raise ValueError('El archivo CSV debe contener una columna \"nombres\".')\n",
        "\n",
        "    # Manejar valores nulos y convertir a string\n",
        "    df['nombres'] = df['nombres'].fillna('').astype(str)\n",
        "\n",
        "    # Determinar el género para cada nombre\n",
        "    df['genero'] = df['nombres'].apply(determinar_genero)\n",
        "\n",
        "    # Guardar el resultado en un nuevo archivo CSV\n",
        "    df.to_csv('resultado_genero.csv', index=False, sep=';', encoding='utf-8')\n",
        "    print(\"Archivo procesado y guardado como 'resultado_genero.csv'\")\n",
        "\n",
        "# Cargar el archivo CSV\n",
        "ruta_archivo = \"/content/drive/MyDrive/Alexander Niño.lnk/2024/_Genero/nombres.csv\"\n",
        "procesar_csv(ruta_archivo)\n"
      ],
      "metadata": {
        "colab": {
          "base_uri": "https://localhost:8080/"
        },
        "id": "ljk_V85sODOs",
        "outputId": "79ef4a2b-bce0-4216-f4d0-778223537f8e"
      },
      "execution_count": 10,
      "outputs": [
        {
          "output_type": "stream",
          "name": "stdout",
          "text": [
            "Archivo procesado y guardado como 'resultado_genero.csv'\n"
          ]
        }
      ]
    },
    {
      "cell_type": "code",
      "source": [
        "#Descargar archivo Cruce de Genero de GoogleColab al PC\n",
        "from google.colab import files\n",
        "files.download('resultado_genero.csv')"
      ],
      "metadata": {
        "colab": {
          "base_uri": "https://localhost:8080/",
          "height": 17
        },
        "id": "bcsrMgrc5B31",
        "outputId": "9a20acdb-1f08-4a40-cb9c-b2f7b0900abb"
      },
      "execution_count": 11,
      "outputs": [
        {
          "output_type": "display_data",
          "data": {
            "text/plain": [
              "<IPython.core.display.Javascript object>"
            ],
            "application/javascript": [
              "\n",
              "    async function download(id, filename, size) {\n",
              "      if (!google.colab.kernel.accessAllowed) {\n",
              "        return;\n",
              "      }\n",
              "      const div = document.createElement('div');\n",
              "      const label = document.createElement('label');\n",
              "      label.textContent = `Downloading \"${filename}\": `;\n",
              "      div.appendChild(label);\n",
              "      const progress = document.createElement('progress');\n",
              "      progress.max = size;\n",
              "      div.appendChild(progress);\n",
              "      document.body.appendChild(div);\n",
              "\n",
              "      const buffers = [];\n",
              "      let downloaded = 0;\n",
              "\n",
              "      const channel = await google.colab.kernel.comms.open(id);\n",
              "      // Send a message to notify the kernel that we're ready.\n",
              "      channel.send({})\n",
              "\n",
              "      for await (const message of channel.messages) {\n",
              "        // Send a message to notify the kernel that we're ready.\n",
              "        channel.send({})\n",
              "        if (message.buffers) {\n",
              "          for (const buffer of message.buffers) {\n",
              "            buffers.push(buffer);\n",
              "            downloaded += buffer.byteLength;\n",
              "            progress.value = downloaded;\n",
              "          }\n",
              "        }\n",
              "      }\n",
              "      const blob = new Blob(buffers, {type: 'application/binary'});\n",
              "      const a = document.createElement('a');\n",
              "      a.href = window.URL.createObjectURL(blob);\n",
              "      a.download = filename;\n",
              "      div.appendChild(a);\n",
              "      a.click();\n",
              "      div.remove();\n",
              "    }\n",
              "  "
            ]
          },
          "metadata": {}
        },
        {
          "output_type": "display_data",
          "data": {
            "text/plain": [
              "<IPython.core.display.Javascript object>"
            ],
            "application/javascript": [
              "download(\"download_b1cdf0b2-7aa6-413a-a31e-23d47d4752e0\", \"resultado_genero.csv\", 55267)"
            ]
          },
          "metadata": {}
        }
      ]
    }
  ]
}