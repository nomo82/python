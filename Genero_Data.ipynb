{
  "nbformat": 4,
  "nbformat_minor": 0,
  "metadata": {
    "colab": {
      "provenance": [],
      "include_colab_link": true
    },
    "kernelspec": {
      "name": "python3",
      "display_name": "Python 3"
    },
    "language_info": {
      "name": "python"
    }
  },
  "cells": [
    {
      "cell_type": "markdown",
      "metadata": {
        "id": "view-in-github",
        "colab_type": "text"
      },
      "source": [
        "<a href=\"https://colab.research.google.com/github/nomo82/python/blob/main/Genero_Data.ipynb\" target=\"_parent\"><img src=\"https://colab.research.google.com/assets/colab-badge.svg\" alt=\"Open In Colab\"/></a>"
      ]
    },
    {
      "cell_type": "code",
      "source": [
        "import pandas as pd"
      ],
      "metadata": {
        "id": "hkmisNgOx7Mc"
      },
      "execution_count": 1,
      "outputs": []
    },
    {
      "cell_type": "code",
      "source": [
        "from google.colab import drive\n",
        "drive.mount('/content/drive')"
      ],
      "metadata": {
        "colab": {
          "base_uri": "https://localhost:8080/"
        },
        "id": "hoTmQrc2zE1c",
        "outputId": "cd701d0d-d14b-42a0-cf8f-c2e4ff0f0e8c"
      },
      "execution_count": 2,
      "outputs": [
        {
          "output_type": "stream",
          "name": "stdout",
          "text": [
            "Mounted at /content/drive\n"
          ]
        }
      ]
    },
    {
      "cell_type": "code",
      "source": [
        "DataFrame = pd.read_csv('/content/drive/MyDrive/Alexander Niño.lnk/2024/Octubre/20241018/nombres.csv', encoding='ISO-8859-1')"
      ],
      "metadata": {
        "id": "1_MPxsDw3k-2"
      },
      "execution_count": 14,
      "outputs": []
    },
    {
      "cell_type": "code",
      "source": [
        "!pip install gender-guesser"
      ],
      "metadata": {
        "colab": {
          "base_uri": "https://localhost:8080/"
        },
        "id": "3tm8l454-LO4",
        "outputId": "55f02afe-f8e7-4825-d0db-9eb0c51ddffb"
      },
      "execution_count": 15,
      "outputs": [
        {
          "output_type": "stream",
          "name": "stdout",
          "text": [
            "Requirement already satisfied: gender-guesser in /usr/local/lib/python3.10/dist-packages (0.4.0)\n"
          ]
        }
      ]
    },
    {
      "cell_type": "code",
      "source": [
        "!pip install names\n"
      ],
      "metadata": {
        "colab": {
          "base_uri": "https://localhost:8080/"
        },
        "id": "Nqs7Rw9q_gaj",
        "outputId": "614367a2-9d81-42f6-e2f9-6c779f671ffc"
      },
      "execution_count": 16,
      "outputs": [
        {
          "output_type": "stream",
          "name": "stdout",
          "text": [
            "Requirement already satisfied: names in /usr/local/lib/python3.10/dist-packages (0.3.0)\n"
          ]
        }
      ]
    },
    {
      "cell_type": "code",
      "source": [
        "!pip install requests"
      ],
      "metadata": {
        "colab": {
          "base_uri": "https://localhost:8080/"
        },
        "id": "Gp3q4Y6kAANe",
        "outputId": "01a39700-768e-4ab6-8c9b-b75f63ea7c51"
      },
      "execution_count": 17,
      "outputs": [
        {
          "output_type": "stream",
          "name": "stdout",
          "text": [
            "Requirement already satisfied: requests in /usr/local/lib/python3.10/dist-packages (2.32.3)\n",
            "Requirement already satisfied: charset-normalizer<4,>=2 in /usr/local/lib/python3.10/dist-packages (from requests) (3.4.0)\n",
            "Requirement already satisfied: idna<4,>=2.5 in /usr/local/lib/python3.10/dist-packages (from requests) (3.10)\n",
            "Requirement already satisfied: urllib3<3,>=1.21.1 in /usr/local/lib/python3.10/dist-packages (from requests) (2.2.3)\n",
            "Requirement already satisfied: certifi>=2017.4.17 in /usr/local/lib/python3.10/dist-packages (from requests) (2024.8.30)\n"
          ]
        }
      ]
    },
    {
      "cell_type": "code",
      "source": [
        "import pandas as pd\n",
        "import gender_guesser.detector as gender\n",
        "\n",
        "# Cargar el detector de género\n",
        "detector = gender.Detector()\n",
        "\n",
        "def determinar_genero(nombre):\n",
        "    \"\"\"Determina el género basado en el primer nombre usando gender-guesser.\"\"\"\n",
        "    primer_nombre = nombre.split()[0].strip()\n",
        "    genero = detector.get_gender(primer_nombre)\n",
        "\n",
        "    if genero in ['male', 'female']:\n",
        "        return 'Masculino' if genero == 'male' else 'Femenino'\n",
        "    else:\n",
        "        return 'Desconocido'\n",
        "\n",
        "def procesar_csv(ruta_archivo):\n",
        "    \"\"\"Lee un archivo CSV y determina el género de los nombres.\"\"\"\n",
        "    # Ajuste de encoding para evitar problemas de decodificación\n",
        "    df = pd.read_csv(ruta_archivo, encoding='ISO-8859-1')\n",
        "\n",
        "    # Asegurarse de que hay una columna 'nombres'\n",
        "    if 'nombres' not in df.columns:\n",
        "        raise ValueError('El archivo CSV debe contener una columna \"nombres\".')\n",
        "\n",
        "    # Determinar el género para cada nombre\n",
        "    df['genero'] = df['nombres'].apply(determinar_genero)\n",
        "\n",
        "    # Guardar el resultado en un nuevo archivo CSV\n",
        "    df.to_csv('resultado_genero_01.csv', index=False)\n",
        "    print(\"Archivo procesado y guardado como 'resultado_genero_01.csv'.\")\n",
        "\n",
        "# Cargar el archivo CSV\n",
        "ruta_archivo = \"/content/drive/MyDrive/Alexander Niño.lnk/2024/Octubre/20241018/nombres.csv\"\n",
        "procesar_csv(ruta_archivo)\n"
      ],
      "metadata": {
        "colab": {
          "base_uri": "https://localhost:8080/"
        },
        "id": "Kh23jF7I9_g0",
        "outputId": "6c1cf4bf-f0d7-40d0-f2e0-87348f286ff0"
      },
      "execution_count": 19,
      "outputs": [
        {
          "output_type": "stream",
          "name": "stdout",
          "text": [
            "Archivo procesado y guardado como 'resultado_genero_01.csv'.\n"
          ]
        }
      ]
    }
  ]
}