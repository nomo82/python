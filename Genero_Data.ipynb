{
  "nbformat": 4,
  "nbformat_minor": 0,
  "metadata": {
    "colab": {
      "provenance": []
    },
    "kernelspec": {
      "name": "python3",
      "display_name": "Python 3"
    },
    "language_info": {
      "name": "python"
    }
  },
  "cells": [
    {
      "cell_type": "code",
      "source": [
        "import pandas as pd"
      ],
      "metadata": {
        "id": "hkmisNgOx7Mc"
      },
      "execution_count": null,
      "outputs": []
    },
    {
      "cell_type": "code",
      "source": [
        "from google.colab import drive\n",
        "drive.mount('/content/drive')"
      ],
      "metadata": {
        "colab": {
          "base_uri": "https://localhost:8080/"
        },
        "id": "hoTmQrc2zE1c",
        "outputId": "a529b9fb-743f-4217-cb8f-5f797fcac543"
      },
      "execution_count": null,
      "outputs": [
        {
          "output_type": "stream",
          "name": "stdout",
          "text": [
            "Drive already mounted at /content/drive; to attempt to forcibly remount, call drive.mount(\"/content/drive\", force_remount=True).\n"
          ]
        }
      ]
    },
    {
      "cell_type": "code",
      "source": [
        "DataFrame = pd.read_csv('/content/drive/MyDrive/Alexander Niño.lnk/2024/Octubre/20241018/nombres.csv')"
      ],
      "metadata": {
        "id": "1_MPxsDw3k-2"
      },
      "execution_count": null,
      "outputs": []
    },
    {
      "cell_type": "code",
      "source": [
        "import pandas as pd\n",
        "\n",
        "# Listas de nombres para determinar el género\n",
        "nombres_masculinos = [\n",
        "    'Juan', 'Pedro', 'Luis', 'Carlos', 'Javier',\n",
        "    'Diego', 'Andrés', 'José', 'David', 'Alejandro',\n",
        "    'Daniel', 'Fernando', 'Santiago', 'Gabriel', 'Ricardo',\n",
        "    'Pablo', 'Ángel', 'Víctor', 'Emilio', 'Hugo',\n",
        "    'Raúl', 'Julio', 'Marco', 'Mateo', 'Nicolás',\n",
        "    'Leonardo', 'Cristian', 'Salvador', 'Omar', 'Mauricio',\n",
        "    'Gonzalo', 'Esteban', 'Felipe', 'Sergio', 'Rafael',\n",
        "    'Adrián', 'Samuel', 'Jorge', 'Iván', 'Alberto',\n",
        "    'Emanuel', 'Armando', 'Christian', 'Matías', 'Damián',\n",
        "    'Héctor', 'César', 'Gustavo', 'Simón', 'Benjamín',\n",
        "    'Alfredo', 'Ignacio', 'Rodolfo', 'Héctor', 'Salomón',\n",
        "    'Leandro', 'Adolfo', 'Gerardo', 'Maximiliano', 'Ezequiel',\n",
        "    'Ramon', 'Victor', 'Arturo', 'Lucas', 'Bruno',\n",
        "    'Alan', 'Esteban', 'Cristóbal', 'Joaquín', 'Felipe',\n",
        "    'Tomas', 'Aldo', 'Lorenzo', 'Ramiro', 'Dario',\n",
        "    'Pablo', 'Julian', 'Francisco', 'Néstor', 'Elías',\n",
        "    'Mateo', 'Hugo', 'Marcelo', 'Gonzalo', 'Simón', 'Cristian'\n",
        "]\n",
        "  # Añade más nombres\n",
        "nombres_femeninos = [\n",
        "    'María', 'Ana', 'Laura', 'Elena', 'Sofía',\n",
        "    'Gabriela', 'Valentina', 'Isabella', 'Camila', 'Julia',\n",
        "    'Sara', 'Daniela', 'Fernanda', 'Natalia', 'Victoria',\n",
        "    'Julieta', 'Constanza', 'Teresa', 'Carolina', 'Andrea',\n",
        "    'Mariana', 'Jimena', 'Aitana', 'Renata', 'Lucía',\n",
        "    'Ximena', 'Bianca', 'Michelle', 'Paloma', 'Dolores',\n",
        "    'Silvia', 'Claudia', 'Patricia', 'Rosa', 'Cristina',\n",
        "    'Leticia', 'Estefanía', 'Lourdes', 'Carmen', 'Marta',\n",
        "    'Inés', 'Verónica', 'Nerea', 'Amelia', 'Agustina',\n",
        "    'Emma', 'Eva', 'Chiara', 'Ana Paula', 'María José',\n",
        "    'Ana Sofía', 'Carla', 'Lía', 'Fabiola', 'Gilda',\n",
        "    'Malena', 'Sol', 'Valeria', 'Jazmín', 'Dayana',\n",
        "    'Wendy', 'Sheila', 'Katia', 'Vanessa', 'Salomé',\n",
        "    'Gisela', 'Martina', 'Araceli', 'Itzel', 'Zulema',\n",
        "    'Noemí', 'Graciela', 'Trinidad', 'Eloísa', 'Danna',\n",
        "    'Ailén', 'Delfina', 'Maria'\n",
        "]\n",
        "  # Añade más nombres\n",
        "\n",
        "def determinar_genero(nombre):\n",
        "    \"\"\"Determina el género basado en el nombre.\"\"\"\n",
        "    nombre = nombre.strip()  # Eliminar espacios\n",
        "    if nombre in nombres_masculinos:\n",
        "        return 'Masculino'\n",
        "    elif nombre in nombres_femeninos:\n",
        "        return 'Femenino'\n",
        "    else:\n",
        "        return 'Desconocido'  # Para nombres que no están en las listas\n",
        "\n",
        "def procesar_csv(ruta_archivo):\n",
        "    \"\"\"Lee un archivo CSV y determina el género de los nombres.\"\"\"\n",
        "    # Cargar el archivo CSV\n",
        "    df = pd.read_csv(ruta_archivo)\n",
        "\n",
        "    # Asegurarse de que hay una columna 'nombres'\n",
        "    if 'nombres' not in df.columns:\n",
        "        raise ValueError('El archivo CSV debe contener una columna \"nombres\".')\n",
        "\n",
        "    # Determinar el género para cada nombre\n",
        "    df['genero'] = df['nombres'].apply(determinar_genero)\n",
        "\n",
        "    # Guardar el resultado en un nuevo archivo CSV\n",
        "    df.to_csv('resultado_genero.csv', index=False)\n",
        "    print(\"Archivo procesado y guardado como 'resultado_genero.csv\")\n",
        "\n",
        "# Cargar el archivo CSV\n",
        "ruta_archivo = \"/content/drive/MyDrive/Alexander Niño.lnk/2024/Octubre/20241018/nombres.csv\"\n",
        "procesar_csv(ruta_archivo)"
      ],
      "metadata": {
        "colab": {
          "base_uri": "https://localhost:8080/"
        },
        "id": "Hpq1qStczYpr",
        "outputId": "e50b8869-9a35-4c42-e57a-09366032e2d1"
      },
      "execution_count": null,
      "outputs": [
        {
          "output_type": "stream",
          "name": "stdout",
          "text": [
            "Archivo procesado y guardado como 'resultado_genero.csv\n"
          ]
        }
      ]
    },
    {
      "cell_type": "code",
      "source": [
        "import pandas as pd\n",
        "\n",
        "# Listas de nombres para determinar el género\n",
        "nombres_masculinos = ['Juan', 'Pedro', 'Luis', 'Carlos', 'Javier', 'Diego', 'Andrés', 'José', 'David', 'Alejandro',\n",
        "                      'Daniel', 'Fernando', 'Santiago', 'Gabriel', 'Ricardo', 'Pablo', 'Ángel', 'Víctor', 'Emilio',\n",
        "                      'Hugo', 'Raúl', 'Julio', 'Marco', 'Mateo', 'Nicolás', 'Leonardo', 'Cristian', 'Salvador',\n",
        "                      'Omar', 'Mauricio', 'Gonzalo', 'Esteban', 'Felipe', 'Sergio', 'Rafael', 'Adrián', 'Samuel',\n",
        "                      'Jorge', 'Iván', 'Alberto', 'Emanuel', 'Armando', 'Christian', 'Matías', 'Damián', 'Héctor',\n",
        "                      'Omar', 'César', 'Gustavo', 'Simón', 'Benjamín', 'Alfredo', 'Ignacio', 'Rodolfo', 'Héctor',\n",
        "                      'Salomón', 'Leandro', 'Adolfo', 'Gerardo', 'Maximiliano', 'Ezequiel', 'Ramon', 'Victor',\n",
        "                      'Arturo', 'Lucas', 'Bruno', 'Alan', 'Esteban', 'Cristóbal', 'Joaquín', 'Felipe', 'Tomas',\n",
        "                      'Aldo', 'Lorenzo', 'Ramiro', 'Dario', 'Pablo', 'Julian', 'Francisco', 'Néstor', 'Elías',\n",
        "                      'Mateo', 'Hugo', 'Marcelo', 'Gonzalo', 'Simón', 'Cristian']\n",
        "\n",
        "nombres_femeninos = ['María', 'Ana', 'Laura', 'Elena', 'Sofía', 'Gabriela', 'Valentina', 'Isabella', 'Camila',\n",
        "                     'Julia', 'Sara', 'Daniela', 'Fernanda', 'Natalia', 'Victoria', 'Julieta', 'Constanza',\n",
        "                     'Teresa', 'Carolina', 'Andrea', 'Mariana', 'Jimena', 'Aitana', 'Renata', 'Lucía',\n",
        "                     'Ximena', 'Bianca', 'Michelle', 'Paloma', 'Dolores', 'Silvia', 'Claudia', 'Patricia',\n",
        "                     'Rosa', 'Cristina', 'Leticia', 'Estefanía', 'Lourdes', 'Carmen', 'Marta', 'Inés',\n",
        "                     'Verónica', 'Nerea', 'Amelia', 'Agustina', 'Emma', 'Eva', 'Chiara', 'Ana Paula',\n",
        "                     'María José', 'Ana Sofía', 'Carla', 'Lía', 'Fabiola', 'Gilda', 'Malena', 'Sol',\n",
        "                     'Valeria', 'Jazmín', 'Dayana', 'Wendy', 'Sheila', 'Katia', 'Vanessa', 'Salomé',\n",
        "                     'Gisela', 'Martina', 'Araceli', 'Itzel', 'Zulema', 'Noemí', 'Graciela', 'Trinidad',\n",
        "                     'Eloísa', 'Danna', 'Ailén', 'Delfina', 'Aria', 'Micaela', 'Anahí', 'Fátima',\n",
        "                     'Kassandra', 'Regina', 'Celeste', 'Tania', 'Luciana', 'Estela', 'Sienna', 'Verónica']\n",
        "\n",
        "def determinar_genero(nombre):\n",
        "    \"\"\"Determina el género basado en el primer nombre.\"\"\"\n",
        "    primer_nombre = nombre.split()[0].strip()  # Tomar solo el primer nombre\n",
        "    if primer_nombre in nombres_masculinos:\n",
        "        return 'Masculino'\n",
        "    elif primer_nombre in nombres_femeninos:\n",
        "        return 'Femenino'\n",
        "    else:\n",
        "        return 'Desconocido'\n",
        "\n",
        "def procesar_csv(ruta_archivo):\n",
        "    \"\"\"Lee un archivo CSV y determina el género de los nombres.\"\"\"\n",
        "    df = pd.read_csv(ruta_archivo)\n",
        "\n",
        "    # Asegurarse de que hay una columna 'nombres'\n",
        "    if 'nombres' not in df.columns:\n",
        "        raise ValueError('El archivo CSV debe contener una columna \"nombres\".')\n",
        "\n",
        "    # Determinar el género para cada nombre\n",
        "    df['genero'] = df['nombres'].apply(determinar_genero)\n",
        "\n",
        "    # Guardar el resultado en un nuevo archivo CSV\n",
        "    df.to_csv('resultado_genero.csv', index=False)\n",
        "    print(\"Archivo procesado y guardado como 'resultado_genero.csv'.\")\n",
        "\n",
        "# Cargar el archivo CSV\n",
        "ruta_archivo = \"/content/drive/MyDrive/Alexander Niño.lnk/2024/Octubre/20241018/nombres.csv\"\n",
        "procesar_csv(ruta_archivo)\n"
      ],
      "metadata": {
        "colab": {
          "base_uri": "https://localhost:8080/"
        },
        "id": "M6jhQ9wB6sz4",
        "outputId": "cc30906c-4fd2-401c-c629-b05c9aada9a6"
      },
      "execution_count": null,
      "outputs": [
        {
          "output_type": "stream",
          "name": "stdout",
          "text": [
            "Archivo procesado y guardado como 'resultado_genero.csv'.\n"
          ]
        }
      ]
    },
    {
      "cell_type": "code",
      "source": [
        "!pip install gender-guesser"
      ],
      "metadata": {
        "colab": {
          "base_uri": "https://localhost:8080/"
        },
        "id": "3tm8l454-LO4",
        "outputId": "361efe1b-7e69-4137-cc99-97aa56a7cda5"
      },
      "execution_count": null,
      "outputs": [
        {
          "output_type": "stream",
          "name": "stdout",
          "text": [
            "Requirement already satisfied: gender-guesser in /usr/local/lib/python3.10/dist-packages (0.4.0)\n"
          ]
        }
      ]
    },
    {
      "cell_type": "code",
      "source": [
        "!pip install names\n"
      ],
      "metadata": {
        "colab": {
          "base_uri": "https://localhost:8080/"
        },
        "id": "Nqs7Rw9q_gaj",
        "outputId": "314613a8-b71b-4ead-fddc-bca193d39369"
      },
      "execution_count": null,
      "outputs": [
        {
          "output_type": "stream",
          "name": "stdout",
          "text": [
            "Requirement already satisfied: names in /usr/local/lib/python3.10/dist-packages (0.3.0)\n"
          ]
        }
      ]
    },
    {
      "cell_type": "code",
      "source": [
        "!pip install requests"
      ],
      "metadata": {
        "colab": {
          "base_uri": "https://localhost:8080/"
        },
        "id": "Gp3q4Y6kAANe",
        "outputId": "67e26616-237f-4f75-8935-753c72b0d614"
      },
      "execution_count": null,
      "outputs": [
        {
          "output_type": "stream",
          "name": "stdout",
          "text": [
            "Requirement already satisfied: requests in /usr/local/lib/python3.10/dist-packages (2.32.3)\n",
            "Requirement already satisfied: charset-normalizer<4,>=2 in /usr/local/lib/python3.10/dist-packages (from requests) (3.3.2)\n",
            "Requirement already satisfied: idna<4,>=2.5 in /usr/local/lib/python3.10/dist-packages (from requests) (3.10)\n",
            "Requirement already satisfied: urllib3<3,>=1.21.1 in /usr/local/lib/python3.10/dist-packages (from requests) (2.2.3)\n",
            "Requirement already satisfied: certifi>=2017.4.17 in /usr/local/lib/python3.10/dist-packages (from requests) (2024.8.30)\n"
          ]
        }
      ]
    },
    {
      "cell_type": "code",
      "source": [
        "import pandas as pd\n",
        "import gender_guesser.detector as gender\n",
        "\n",
        "# Cargar el detector de género\n",
        "detector = gender.Detector()\n",
        "\n",
        "def determinar_genero(nombre):\n",
        "    \"\"\"Determina el género basado en el primer nombre usando gender-guesser.\"\"\"\n",
        "    primer_nombre = nombre.split()[0].strip()\n",
        "    genero = detector.get_gender(primer_nombre)\n",
        "\n",
        "    if genero in ['male', 'female']:\n",
        "        return 'Masculino' if genero == 'male' else 'Femenino'\n",
        "    else:\n",
        "        return 'Desconocido'\n",
        "\n",
        "def procesar_csv(ruta_archivo):\n",
        "    \"\"\"Lee un archivo CSV y determina el género de los nombres.\"\"\"\n",
        "    df = pd.read_csv(ruta_archivo)\n",
        "\n",
        "    # Asegurarse de que hay una columna 'nombres'\n",
        "    if 'nombres' not in df.columns:\n",
        "        raise ValueError('El archivo CSV debe contener una columna \"nombres\".')\n",
        "\n",
        "    # Determinar el género para cada nombre\n",
        "    df['genero'] = df['nombres'].apply(determinar_genero)\n",
        "\n",
        "    # Guardar el resultado en un nuevo archivo CSV\n",
        "    df.to_csv('resultado_genero_01.csv', index=False)\n",
        "    print(\"Archivo procesado y guardado como 'resultado_genero_01.csv'.\")\n",
        "\n",
        "# Cargar el archivo CSV\n",
        "ruta_archivo = \"/content/drive/MyDrive/Alexander Niño.lnk/2024/Octubre/20241018/nombres.csv\"\n",
        "procesar_csv(ruta_archivo)\n"
      ],
      "metadata": {
        "colab": {
          "base_uri": "https://localhost:8080/"
        },
        "id": "Kh23jF7I9_g0",
        "outputId": "736f5423-6051-4e60-dd6c-232a2ec6cab0"
      },
      "execution_count": 89,
      "outputs": [
        {
          "output_type": "stream",
          "name": "stdout",
          "text": [
            "Archivo procesado y guardado como 'resultado_genero_01.csv'.\n"
          ]
        }
      ]
    }
  ]
}