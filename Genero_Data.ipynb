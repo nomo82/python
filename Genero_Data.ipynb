{
  "nbformat": 4,
  "nbformat_minor": 0,
  "metadata": {
    "colab": {
      "provenance": [],
      "include_colab_link": true
    },
    "kernelspec": {
      "name": "python3",
      "display_name": "Python 3"
    },
    "language_info": {
      "name": "python"
    }
  },
  "cells": [
    {
      "cell_type": "markdown",
      "metadata": {
        "id": "view-in-github",
        "colab_type": "text"
      },
      "source": [
        "<a href=\"https://colab.research.google.com/github/nomo82/python/blob/main/Genero_Data.ipynb\" target=\"_parent\"><img src=\"https://colab.research.google.com/assets/colab-badge.svg\" alt=\"Open In Colab\"/></a>"
      ]
    },
    {
      "cell_type": "code",
      "source": [
        "import pandas as pd"
      ],
      "metadata": {
        "id": "hkmisNgOx7Mc"
      },
      "execution_count": 9,
      "outputs": []
    },
    {
      "cell_type": "code",
      "source": [
        "from google.colab import drive\n",
        "drive.mount('/content/drive')"
      ],
      "metadata": {
        "colab": {
          "base_uri": "https://localhost:8080/"
        },
        "id": "hoTmQrc2zE1c",
        "outputId": "88319e3b-30d8-49fc-a7ee-0b301356ec21"
      },
      "execution_count": 8,
      "outputs": [
        {
          "output_type": "stream",
          "name": "stdout",
          "text": [
            "Drive already mounted at /content/drive; to attempt to forcibly remount, call drive.mount(\"/content/drive\", force_remount=True).\n"
          ]
        }
      ]
    },
    {
      "cell_type": "code",
      "source": [
        "import os\n",
        "\n",
        "file_path = '/content/drive/MyDrive/Alexander Niño.lnk/2024/_Genero/nombres.csv'\n",
        "\n",
        "# Verificar si el archivo existe\n",
        "if os.path.exists(file_path):\n",
        "    print(\"El archivo existe.\")\n",
        "else:\n",
        "    print(\"El archivo no se encuentra en la ruta proporcionada.\")\n"
      ],
      "metadata": {
        "colab": {
          "base_uri": "https://localhost:8080/"
        },
        "id": "j-rU-vUnLD6K",
        "outputId": "08b571dc-b343-4d41-d487-2f7b915b71b7"
      },
      "execution_count": 20,
      "outputs": [
        {
          "output_type": "stream",
          "name": "stdout",
          "text": [
            "El archivo existe.\n"
          ]
        }
      ]
    },
    {
      "cell_type": "code",
      "source": [
        "DataFrame = pd.read_csv('/content/drive/MyDrive/Alexander Niño.lnk/2024/_Genero/nombres.csv', encoding='ISO-8859-1', delimiter=';')"
      ],
      "metadata": {
        "id": "1_MPxsDw3k-2"
      },
      "execution_count": 22,
      "outputs": []
    },
    {
      "cell_type": "code",
      "source": [
        "!pip install gender-guesser"
      ],
      "metadata": {
        "colab": {
          "base_uri": "https://localhost:8080/"
        },
        "id": "3tm8l454-LO4",
        "outputId": "216d2e2b-0c58-48f3-8ca0-8354ba1d85cd"
      },
      "execution_count": 11,
      "outputs": [
        {
          "output_type": "stream",
          "name": "stdout",
          "text": [
            "Collecting gender-guesser\n",
            "  Downloading gender_guesser-0.4.0-py2.py3-none-any.whl.metadata (3.0 kB)\n",
            "Downloading gender_guesser-0.4.0-py2.py3-none-any.whl (379 kB)\n",
            "\u001b[2K   \u001b[90m━━━━━━━━━━━━━━━━━━━━━━━━━━━━━━━━━━━━━━━━\u001b[0m \u001b[32m379.3/379.3 kB\u001b[0m \u001b[31m4.9 MB/s\u001b[0m eta \u001b[36m0:00:00\u001b[0m\n",
            "\u001b[?25hInstalling collected packages: gender-guesser\n",
            "Successfully installed gender-guesser-0.4.0\n"
          ]
        }
      ]
    },
    {
      "cell_type": "code",
      "source": [
        "!pip install names\n"
      ],
      "metadata": {
        "colab": {
          "base_uri": "https://localhost:8080/"
        },
        "id": "Nqs7Rw9q_gaj",
        "outputId": "76a790d2-0bc0-4037-c619-4ebd38519aa2"
      },
      "execution_count": 12,
      "outputs": [
        {
          "output_type": "stream",
          "name": "stdout",
          "text": [
            "Collecting names\n",
            "  Downloading names-0.3.0.tar.gz (789 kB)\n",
            "\u001b[?25l     \u001b[90m━━━━━━━━━━━━━━━━━━━━━━━━━━━━━━━━━━━━━━━━\u001b[0m \u001b[32m0.0/789.1 kB\u001b[0m \u001b[31m?\u001b[0m eta \u001b[36m-:--:--\u001b[0m\r\u001b[2K     \u001b[91m━━━━━━━\u001b[0m\u001b[90m╺\u001b[0m\u001b[90m━━━━━━━━━━━━━━━━━━━━━━━━━━━━━━━━\u001b[0m \u001b[32m143.4/789.1 kB\u001b[0m \u001b[31m4.2 MB/s\u001b[0m eta \u001b[36m0:00:01\u001b[0m\r\u001b[2K     \u001b[91m━━━━━━━━━━━━━━━━━━━━━━━━━━━━━━━━━━━━\u001b[0m\u001b[90m╺\u001b[0m\u001b[90m━━━\u001b[0m \u001b[32m716.8/789.1 kB\u001b[0m \u001b[31m10.3 MB/s\u001b[0m eta \u001b[36m0:00:01\u001b[0m\r\u001b[2K     \u001b[90m━━━━━━━━━━━━━━━━━━━━━━━━━━━━━━━━━━━━━━━━\u001b[0m \u001b[32m789.1/789.1 kB\u001b[0m \u001b[31m9.0 MB/s\u001b[0m eta \u001b[36m0:00:00\u001b[0m\n",
            "\u001b[?25h  Preparing metadata (setup.py) ... \u001b[?25l\u001b[?25hdone\n",
            "Building wheels for collected packages: names\n",
            "  Building wheel for names (setup.py) ... \u001b[?25l\u001b[?25hdone\n",
            "  Created wheel for names: filename=names-0.3.0-py3-none-any.whl size=803681 sha256=bee7df5d0dd4738637f9e086cbc7c6ecf71b0ff285f6429c246db4e0fde0d8ba\n",
            "  Stored in directory: /root/.cache/pip/wheels/fc/9a/6f/78f4282bbcaa2d8c678b73c54c0bb1b7a04009f0d7cec79fce\n",
            "Successfully built names\n",
            "Installing collected packages: names\n",
            "Successfully installed names-0.3.0\n"
          ]
        }
      ]
    },
    {
      "cell_type": "code",
      "source": [
        "!pip install requests"
      ],
      "metadata": {
        "colab": {
          "base_uri": "https://localhost:8080/"
        },
        "id": "Gp3q4Y6kAANe",
        "outputId": "9808ddf3-7473-4300-985b-baa6393828f8"
      },
      "execution_count": 13,
      "outputs": [
        {
          "output_type": "stream",
          "name": "stdout",
          "text": [
            "Requirement already satisfied: requests in /usr/local/lib/python3.10/dist-packages (2.32.3)\n",
            "Requirement already satisfied: charset-normalizer<4,>=2 in /usr/local/lib/python3.10/dist-packages (from requests) (3.4.0)\n",
            "Requirement already satisfied: idna<4,>=2.5 in /usr/local/lib/python3.10/dist-packages (from requests) (3.10)\n",
            "Requirement already satisfied: urllib3<3,>=1.21.1 in /usr/local/lib/python3.10/dist-packages (from requests) (2.2.3)\n",
            "Requirement already satisfied: certifi>=2017.4.17 in /usr/local/lib/python3.10/dist-packages (from requests) (2024.8.30)\n"
          ]
        }
      ]
    },
    {
      "cell_type": "code",
      "source": [
        "import pandas as pd\n",
        "\n",
        "# Cargar el archivo CSV con el encoding y delimitador adecuado\n",
        "ruta_archivo = \"/content/drive/MyDrive/Alexander Niño.lnk/2024/_Genero/nombres.csv\"\n",
        "df = pd.read_csv(ruta_archivo, encoding='ISO-8859-1', delimiter=';')\n",
        "\n",
        "# Mostrar los nombres de las columnas\n",
        "print(\"Columnas del archivo:\", df.columns)\n"
      ],
      "metadata": {
        "colab": {
          "base_uri": "https://localhost:8080/"
        },
        "id": "D_MjNaROMRP0",
        "outputId": "ec5176dc-df9f-4d5d-872c-02be3d9b4f34"
      },
      "execution_count": 24,
      "outputs": [
        {
          "output_type": "stream",
          "name": "stdout",
          "text": [
            "Columnas del archivo: Index(['nombres', 'genero'], dtype='object')\n"
          ]
        }
      ]
    },
    {
      "cell_type": "code",
      "source": [
        "# Limpiar los nombres de las columnas (eliminar espacios en blanco al principio y al final)\n",
        "df.columns = df.columns.str.strip()\n",
        "\n",
        "# Verificar nuevamente las columnas\n",
        "print(\"Columnas del archivo después de limpiar:\", df.columns)\n"
      ],
      "metadata": {
        "colab": {
          "base_uri": "https://localhost:8080/"
        },
        "id": "TXJ77cJhMUiR",
        "outputId": "e5fc063e-cce7-4dba-b61f-950e10210229"
      },
      "execution_count": 25,
      "outputs": [
        {
          "output_type": "stream",
          "name": "stdout",
          "text": [
            "Columnas del archivo después de limpiar: Index(['nombres', 'genero'], dtype='object')\n"
          ]
        }
      ]
    },
    {
      "cell_type": "code",
      "source": [
        "import pandas as pd\n",
        "import gender_guesser.detector as gender\n",
        "\n",
        "# Cargar el detector de género\n",
        "detector = gender.Detector()\n",
        "\n",
        "def determinar_genero(nombre):\n",
        "    \"\"\"Determina el género basado en el primer nombre usando gender-guesser.\"\"\"\n",
        "    primer_nombre = nombre.split()[0].strip()\n",
        "    genero = detector.get_gender(primer_nombre)\n",
        "\n",
        "    if genero in ['male', 'female']:\n",
        "        return 'Masculino' if genero == 'male' else 'Femenino'\n",
        "    else:\n",
        "        return 'Desconocido'\n",
        "\n",
        "def procesar_csv(ruta_archivo):\n",
        "    \"\"\"Lee un archivo CSV y determina el género de los nombres.\"\"\"\n",
        "    # Ajuste de encoding para evitar problemas de decodificación\n",
        "    df = pd.read_csv(ruta_archivo, encoding='ISO-8859-1', delimiter=';')\n",
        "\n",
        "    # Limpiar los nombres de las columnas (eliminar espacios en blanco al principio y al final)\n",
        "    df.columns = df.columns.str.strip()\n",
        "\n",
        "    # Asegurarse de que hay una columna 'nombres'\n",
        "    if 'nombres' not in df.columns:\n",
        "        raise ValueError('El archivo CSV debe contener una columna \"nombres\".')\n",
        "\n",
        "    # Determinar el género para cada nombre\n",
        "    df['genero'] = df['nombres'].apply(determinar_genero)\n",
        "\n",
        "    # Guardar el resultado en un nuevo archivo CSV\n",
        "    df.to_csv('resultado_genero_01.csv', index=False)\n",
        "    print(\"Archivo procesado y guardado como 'resultado_genero_01.csv'.\")\n",
        "\n",
        "# Cargar el archivo CSV\n",
        "ruta_archivo = \"/content/drive/MyDrive/Alexander Niño.lnk/2024/_Genero/nombres.csv\"\n",
        "procesar_csv(ruta_archivo)"
      ],
      "metadata": {
        "colab": {
          "base_uri": "https://localhost:8080/"
        },
        "id": "ljk_V85sODOs",
        "outputId": "987481f5-9d36-4823-ef73-af564b697769"
      },
      "execution_count": 29,
      "outputs": [
        {
          "output_type": "stream",
          "name": "stdout",
          "text": [
            "Archivo procesado y guardado como 'resultado_genero_01.csv'.\n"
          ]
        }
      ]
    }
  ]
}