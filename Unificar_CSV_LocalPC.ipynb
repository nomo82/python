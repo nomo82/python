{
  "nbformat": 4,
  "nbformat_minor": 0,
  "metadata": {
    "colab": {
      "provenance": [],
      "mount_file_id": "129owTqVQC0CQAqzb_L7p3hw_cdujd9xK",
      "authorship_tag": "ABX9TyOnY32eNg+CoEMrZhdayP7A",
      "include_colab_link": true
    },
    "kernelspec": {
      "name": "python3",
      "display_name": "Python 3"
    },
    "language_info": {
      "name": "python"
    }
  },
  "cells": [
    {
      "cell_type": "markdown",
      "metadata": {
        "id": "view-in-github",
        "colab_type": "text"
      },
      "source": [
        "<a href=\"https://colab.research.google.com/github/nomo82/python/blob/main/Unificar_CSV_LocalPC.ipynb\" target=\"_parent\"><img src=\"https://colab.research.google.com/assets/colab-badge.svg\" alt=\"Open In Colab\"/></a>"
      ]
    },
    {
      "cell_type": "code",
      "source": [
        "from google.colab import drive\n",
        "drive.mount('/content/drive')"
      ],
      "metadata": {
        "colab": {
          "base_uri": "https://localhost:8080/"
        },
        "id": "-CXu03x-tON4",
        "outputId": "e669f116-91d5-47b4-f216-b428a58fc7f8"
      },
      "execution_count": null,
      "outputs": [
        {
          "output_type": "stream",
          "name": "stdout",
          "text": [
            "Drive already mounted at /content/drive; to attempt to forcibly remount, call drive.mount(\"/content/drive\", force_remount=True).\n"
          ]
        }
      ]
    },
    {
      "cell_type": "code",
      "execution_count": null,
      "metadata": {
        "colab": {
          "base_uri": "https://localhost:8080/"
        },
        "id": "OJBLwtZOeA67",
        "outputId": "6d826790-cd04-45fa-a147-1ecfb1064189"
      },
      "outputs": [
        {
          "output_type": "stream",
          "name": "stderr",
          "text": [
            "<ipython-input-99-5bba860b4e5a>:18: DtypeWarning: Columns (0,1,3,4,7,13,14,15,16,17,18,19,21,23,25,27,28,29,30,31,32,33,34,36,37,38) have mixed types. Specify dtype option on import or set low_memory=False.\n",
            "  df = pd.read_csv(ruta_completa, sep=';', encoding='utf-8')\n"
          ]
        },
        {
          "output_type": "stream",
          "name": "stdout",
          "text": [
            "Archivo Datos Bogotá Facebook.csv leído correctamente.\n",
            "Archivo Datos Manizales Facebook.csv leído correctamente.\n"
          ]
        },
        {
          "output_type": "stream",
          "name": "stderr",
          "text": [
            "<ipython-input-99-5bba860b4e5a>:18: DtypeWarning: Columns (3) have mixed types. Specify dtype option on import or set low_memory=False.\n",
            "  df = pd.read_csv(ruta_completa, sep=';', encoding='utf-8')\n"
          ]
        },
        {
          "output_type": "stream",
          "name": "stdout",
          "text": [
            "Archivo Datos Pereira Facebook.csv leído correctamente.\n"
          ]
        },
        {
          "output_type": "stream",
          "name": "stderr",
          "text": [
            "<ipython-input-99-5bba860b4e5a>:18: DtypeWarning: Columns (13,14,16,18,20,22,23,24,25,27,28) have mixed types. Specify dtype option on import or set low_memory=False.\n",
            "  df = pd.read_csv(ruta_completa, sep=';', encoding='utf-8')\n"
          ]
        },
        {
          "output_type": "stream",
          "name": "stdout",
          "text": [
            "Archivo Datos Cali Facebook.csv leído correctamente.\n",
            "DataFrame Historico Facebook ADS creado con éxito.\n",
            "  Codigo Proyecto      Fecha registro Estado Nombres  \\\n",
            "0       Bog SOFF2  10/10/2023 0:00:00    New     NaN   \n",
            "1       Bog SOFF2  10/10/2023 0:00:00    New     NaN   \n",
            "2       Bog SOFF2  10/10/2023 0:00:00    New     NaN   \n",
            "3       Bog SOFF2  10/10/2023 0:00:00    New     NaN   \n",
            "4       Bog SOFF2  10/10/2023 0:00:00    New     NaN   \n",
            "\n",
            "                          Apellidos       Celular  \\\n",
            "0            Jaime Sarmiento Garzon  573138899025   \n",
            "1                       Erik Torres  573212451813   \n",
            "2  Jose hipolito Castro castellanos  573215689989   \n",
            "3              David López Martinez  573142091845   \n",
            "4               Yady Xiomara Correa  573142496411   \n",
            "\n",
            "                           Email        origen Autorizacion Habeas  \\\n",
            "0      j.sarmiento.g@hotmail.com  Facebook Ads                  Si   \n",
            "1    lunamariatorres@outlook.com  Facebook Ads                  Si   \n",
            "2        rositaypolo@hotmsil.com  Facebook Ads                  Si   \n",
            "3         david-9721@hotmail.com  Facebook Ads                  Si   \n",
            "4  yadyxiomaracorrea@hotmail.com  Facebook Ads                  Si   \n",
            "\n",
            "  Rango Ingreso  ... last_name phone_number email lead_status  \\\n",
            "0           NaN  ...       NaN          NaN   NaN         NaN   \n",
            "1           NaN  ...       NaN          NaN   NaN         NaN   \n",
            "2           NaN  ...       NaN          NaN   NaN         NaN   \n",
            "3           NaN  ...       NaN          NaN   NaN         NaN   \n",
            "4           NaN  ...       NaN          NaN   NaN         NaN   \n",
            "\n",
            "  Codigo Proyecto  Rango ahorro  Ciudad   id full_name  \n",
            "0              NaN   NaN    NaN  Bogotá  NaN       NaN  \n",
            "1              NaN   NaN    NaN  Bogotá  NaN       NaN  \n",
            "2              NaN   NaN    NaN  Bogotá  NaN       NaN  \n",
            "3              NaN   NaN    NaN  Bogotá  NaN       NaN  \n",
            "4              NaN   NaN    NaN  Bogotá  NaN       NaN  \n",
            "\n",
            "[5 rows x 44 columns]\n",
            "DataFrame Historico Facebook ADS guardado en /content/drive/MyDrive/Alexander Niño.lnk/2025/DB_UpDate_SincoCRM/datos_historico_facebook_ads.csv\n"
          ]
        }
      ],
      "source": [
        "import pandas as pd\n",
        "import os\n",
        "\n",
        "# Definir la ruta donde están almacenados los archivos\n",
        "ruta_archivos = r\"/content/drive/MyDrive/Alexander Niño.lnk/2025/DB_UpDate_SincoCRM\"  # Cambia esto por la ruta correcta\n",
        "\n",
        "# Lista de archivos que deseas unificar\n",
        "archivos = ['Datos Bogotá Facebook.csv', 'Datos Manizales Facebook.csv', 'Datos Pereira Facebook.csv', 'Datos Cali Facebook.csv']\n",
        "\n",
        "# Crear un DataFrame vacío para almacenar los datos combinados\n",
        "df_historico_facebook_ads = pd.DataFrame()\n",
        "\n",
        "# Leer y concatenar cada archivo\n",
        "for archivo in archivos:\n",
        "    ruta_completa = os.path.join(ruta_archivos, archivo)  # Obtener la ruta completa del archivo\n",
        "    try:\n",
        "        # Leer el archivo CSV (ajusta el separador y la codificación si es necesario)\n",
        "        df = pd.read_csv(ruta_completa, sep=';', encoding='utf-8')\n",
        "\n",
        "        # Agregar una columna para identificar la ciudad\n",
        "        df['Ciudad'] = archivo.replace('Datos ', '').replace(' Facebook.csv', '')\n",
        "\n",
        "        # Concatenar al DataFrame principal\n",
        "        df_historico_facebook_ads = pd.concat([df_historico_facebook_ads, df], ignore_index=True)\n",
        "\n",
        "        print(f\"Archivo {archivo} leído correctamente.\")\n",
        "    except pd.errors.EmptyDataError:\n",
        "        print(f\"El archivo {archivo} está vacío.\")\n",
        "    except pd.errors.ParserError:\n",
        "        print(f\"Error al parsear el archivo {archivo}.\")\n",
        "    except Exception as e:\n",
        "        print(f\"Error inesperado al leer el archivo {archivo}: {e}\")\n",
        "\n",
        "# Verificar el DataFrame combinado\n",
        "if not df_historico_facebook_ads.empty:\n",
        "    print(\"DataFrame Historico Facebook ADS creado con éxito.\")\n",
        "    print(df_historico_facebook_ads.head())  # Mostrar las primeras filas del DataFrame combinado\n",
        "else:\n",
        "    print(\"No se pudo crear el DataFrame Historico Facebook ADS.\")\n",
        "\n",
        "# Guardar el DataFrame combinado en un nuevo archivo CSV (opcional)\n",
        "if not df_historico_facebook_ads.empty:\n",
        "    ruta_salida = os.path.join(ruta_archivos, 'datos_historico_facebook_ads.csv')\n",
        "    df_historico_facebook_ads.to_csv(ruta_salida, index=False, sep=';', encoding='utf-8')\n",
        "    print(f\"DataFrame Historico Facebook ADS guardado en {ruta_salida}\")"
      ]
    },
    {
      "cell_type": "code",
      "source": [
        "for archivo in archivos:\n",
        "    ruta_completa = os.path.join(ruta_archivos, archivo)\n",
        "    with open(ruta_completa, 'r', encoding='utf-8') as f:\n",
        "        num_filas = sum(1 for line in f)\n",
        "    print(f\"El archivo {archivo} tiene {num_filas} filas.\")"
      ],
      "metadata": {
        "colab": {
          "base_uri": "https://localhost:8080/"
        },
        "id": "yBbABYRodPjT",
        "outputId": "bf071d9d-d96e-4988-c14d-8f26b78f1060"
      },
      "execution_count": null,
      "outputs": [
        {
          "output_type": "stream",
          "name": "stdout",
          "text": [
            "El archivo Datos Bogotá Facebook.csv tiene 518292 filas.\n",
            "El archivo Datos Manizales Facebook.csv tiene 62497 filas.\n",
            "El archivo Datos Pereira Facebook.csv tiene 104484 filas.\n",
            "El archivo Datos Cali Facebook.csv tiene 39003 filas.\n"
          ]
        }
      ]
    },
    {
      "cell_type": "code",
      "source": [
        "#Cantidad de datos del DF para la pauta de Facebook ADS\n",
        "df_historico_facebook_ads.shape"
      ],
      "metadata": {
        "colab": {
          "base_uri": "https://localhost:8080/"
        },
        "id": "855oujFmbvSB",
        "outputId": "1c79540c-6f98-4907-e08e-ff42d111d319"
      },
      "execution_count": null,
      "outputs": [
        {
          "output_type": "execute_result",
          "data": {
            "text/plain": [
              "(724262, 44)"
            ]
          },
          "metadata": {},
          "execution_count": 101
        }
      ]
    },
    {
      "cell_type": "code",
      "source": [
        "#Mostrar el nombre de las columnas del DF\n",
        "df_historico_facebook_ads.columns"
      ],
      "metadata": {
        "colab": {
          "base_uri": "https://localhost:8080/"
        },
        "id": "OsubzURVfbLa",
        "outputId": "b23ed2b9-02f3-48b3-8c3b-97300aee1e49"
      },
      "execution_count": null,
      "outputs": [
        {
          "output_type": "execute_result",
          "data": {
            "text/plain": [
              "Index(['Codigo Proyecto', 'Fecha registro', 'Estado', 'Nombres', 'Apellidos',\n",
              "       'Celular', 'Email', 'origen', 'Autorizacion Habeas', 'Rango Ingreso',\n",
              "       '¿actualmente_cuenta_con_un_ahorro_para_la_compra_de_su_apto?_ingrese_un_smmlv',\n",
              "       'Categoria', 'Nombre de archivo', 'Apellido', 'Unnamed: 14', 'Origen',\n",
              "       'Código proyecto', 'Nombre', 'Fecha', 'created_time', 'ad_id',\n",
              "       'ad_name', 'adset_id', 'adset_name', 'campaign_id', 'campaign_name',\n",
              "       'form_id', 'form_name', 'is_organic', 'platform',\n",
              "       '¿en_promedio_a_cuanto_equivalen_sus_ing._mensuales?',\n",
              "       '¿actualmente_cuenta_con_un_ahorro_para_la_compra_de_su_apto?_',\n",
              "       'ocupación', 'first_name', 'last_name', 'phone_number', 'email',\n",
              "       'lead_status', 'Codigo Proyecto ', 'Rango', 'ahorro', 'Ciudad', 'id',\n",
              "       'full_name'],\n",
              "      dtype='object')"
            ]
          },
          "metadata": {},
          "execution_count": 102
        }
      ]
    },
    {
      "cell_type": "code",
      "source": [
        "# Definir las 6 columnas que deseas seleccionar\n",
        "columnas_seleccionadas = ['Fecha registro', 'Nombres', 'Apellidos', 'Celular', 'Email', 'Rango Ingreso',\n",
        "                          '¿actualmente_cuenta_con_un_ahorro_para_la_compra_de_su_apto?_ingrese_un_smmlv', 'Ciudad']\n",
        "\n",
        "# Crear un nuevo DataFrame con las columnas seleccionadas\n",
        "df_segmentado = df_historico_facebook_ads[columnas_seleccionadas]\n",
        "\n",
        "# Verificar el nuevo DataFrame\n",
        "if not df_segmentado.empty:\n",
        "    print(\"DataFrame segmentado creado con éxito.\")\n",
        "    print(df_segmentado.head())  # Mostrar las primeras filas del DataFrame segmentado\n",
        "else:\n",
        "    print(\"No se pudo crear el DataFrame segmentado.\")\n",
        "\n",
        "# Guardar el DataFrame segmentado en un nuevo archivo CSV (opcional)\n",
        "if not df_segmentado.empty:\n",
        "    ruta_salida_segmentado = os.path.join(ruta_archivos, 'datos_segmentados_facebook_ads.csv')\n",
        "    df_segmentado.to_csv(ruta_salida_segmentado, index=False, sep=';', encoding='utf-8')\n",
        "    print(f\"DataFrame segmentado guardado en {ruta_salida_segmentado}\")"
      ],
      "metadata": {
        "colab": {
          "base_uri": "https://localhost:8080/"
        },
        "id": "PwP2QPHWjwmR",
        "outputId": "8a796ad1-120f-4bc6-82a3-42c189a959ef"
      },
      "execution_count": null,
      "outputs": [
        {
          "output_type": "stream",
          "name": "stdout",
          "text": [
            "DataFrame segmentado creado con éxito.\n",
            "       Fecha registro Nombres                         Apellidos       Celular  \\\n",
            "0  10/10/2023 0:00:00     NaN            Jaime Sarmiento Garzon  573138899025   \n",
            "1  10/10/2023 0:00:00     NaN                       Erik Torres  573212451813   \n",
            "2  10/10/2023 0:00:00     NaN  Jose hipolito Castro castellanos  573215689989   \n",
            "3  10/10/2023 0:00:00     NaN              David López Martinez  573142091845   \n",
            "4  10/10/2023 0:00:00     NaN               Yady Xiomara Correa  573142496411   \n",
            "\n",
            "                           Email Rango Ingreso  \\\n",
            "0      j.sarmiento.g@hotmail.com           NaN   \n",
            "1    lunamariatorres@outlook.com           NaN   \n",
            "2        rositaypolo@hotmsil.com           NaN   \n",
            "3         david-9721@hotmail.com           NaN   \n",
            "4  yadyxiomaracorrea@hotmail.com           NaN   \n",
            "\n",
            "  ¿actualmente_cuenta_con_un_ahorro_para_la_compra_de_su_apto?_ingrese_un_smmlv  \\\n",
            "0                                                NaN                              \n",
            "1                                                NaN                              \n",
            "2                                                NaN                              \n",
            "3                                                NaN                              \n",
            "4                                                NaN                              \n",
            "\n",
            "   Ciudad  \n",
            "0  Bogotá  \n",
            "1  Bogotá  \n",
            "2  Bogotá  \n",
            "3  Bogotá  \n",
            "4  Bogotá  \n",
            "DataFrame segmentado guardado en /content/drive/MyDrive/Alexander Niño.lnk/2025/DB_UpDate_SincoCRM/datos_segmentados_facebook_ads.csv\n"
          ]
        }
      ]
    },
    {
      "cell_type": "code",
      "source": [
        "#Cantidad de datos del DF para la pauta de Facebook ADS\n",
        "df_segmentado.index\n"
      ],
      "metadata": {
        "colab": {
          "base_uri": "https://localhost:8080/"
        },
        "id": "wM0Ppkdnt-oK",
        "outputId": "2ae26092-90ba-4ab9-a835-85ea3caf6c5b"
      },
      "execution_count": null,
      "outputs": [
        {
          "output_type": "execute_result",
          "data": {
            "text/plain": [
              "RangeIndex(start=0, stop=724262, step=1)"
            ]
          },
          "metadata": {},
          "execution_count": 107
        }
      ]
    },
    {
      "cell_type": "code",
      "source": [
        "from google.colab import files\n",
        "\n",
        "# Verifica si el DataFrame no está vacío y luego descarga el archivo\n",
        "if not df_segmentado.empty:\n",
        "    ruta_salida = os.path.join(ruta_archivos, 'datos_segmentados_facebook_ads.csv')\n",
        "    df_segmentado.to_csv(ruta_salida, index=False, sep=';', encoding='utf-8')\n",
        "    print(f\"DataFrame Historico Facebook ADS guardado en {ruta_salida}\")\n",
        "\n",
        "    # Descargar el archivo a tu PC\n",
        "    files.download(ruta_salida)\n",
        "else:\n",
        "    print(\"No se pudo crear el DataFrame Historico Facebook ADS.\")"
      ],
      "metadata": {
        "colab": {
          "base_uri": "https://localhost:8080/",
          "height": 52
        },
        "id": "jEAOBAWXuc6H",
        "outputId": "99458d5a-da32-48e0-820e-8baa43afa691"
      },
      "execution_count": null,
      "outputs": [
        {
          "output_type": "stream",
          "name": "stdout",
          "text": [
            "DataFrame Historico Facebook ADS guardado en /content/drive/MyDrive/Alexander Niño.lnk/2025/DB_UpDate_SincoCRM/datos_segmentados_facebook_ads.csv\n"
          ]
        },
        {
          "output_type": "display_data",
          "data": {
            "text/plain": [
              "<IPython.core.display.Javascript object>"
            ],
            "application/javascript": [
              "\n",
              "    async function download(id, filename, size) {\n",
              "      if (!google.colab.kernel.accessAllowed) {\n",
              "        return;\n",
              "      }\n",
              "      const div = document.createElement('div');\n",
              "      const label = document.createElement('label');\n",
              "      label.textContent = `Downloading \"${filename}\": `;\n",
              "      div.appendChild(label);\n",
              "      const progress = document.createElement('progress');\n",
              "      progress.max = size;\n",
              "      div.appendChild(progress);\n",
              "      document.body.appendChild(div);\n",
              "\n",
              "      const buffers = [];\n",
              "      let downloaded = 0;\n",
              "\n",
              "      const channel = await google.colab.kernel.comms.open(id);\n",
              "      // Send a message to notify the kernel that we're ready.\n",
              "      channel.send({})\n",
              "\n",
              "      for await (const message of channel.messages) {\n",
              "        // Send a message to notify the kernel that we're ready.\n",
              "        channel.send({})\n",
              "        if (message.buffers) {\n",
              "          for (const buffer of message.buffers) {\n",
              "            buffers.push(buffer);\n",
              "            downloaded += buffer.byteLength;\n",
              "            progress.value = downloaded;\n",
              "          }\n",
              "        }\n",
              "      }\n",
              "      const blob = new Blob(buffers, {type: 'application/binary'});\n",
              "      const a = document.createElement('a');\n",
              "      a.href = window.URL.createObjectURL(blob);\n",
              "      a.download = filename;\n",
              "      div.appendChild(a);\n",
              "      a.click();\n",
              "      div.remove();\n",
              "    }\n",
              "  "
            ]
          },
          "metadata": {}
        },
        {
          "output_type": "display_data",
          "data": {
            "text/plain": [
              "<IPython.core.display.Javascript object>"
            ],
            "application/javascript": [
              "download(\"download_0f78a4db-1a94-4273-89d9-a34100f8a676\", \"datos_segmentados_facebook_ads.csv\", 78305466)"
            ]
          },
          "metadata": {}
        }
      ]
    }
  ]
}