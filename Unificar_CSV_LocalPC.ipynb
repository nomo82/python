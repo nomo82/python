{
  "nbformat": 4,
  "nbformat_minor": 0,
  "metadata": {
    "colab": {
      "provenance": [],
      "mount_file_id": "129owTqVQC0CQAqzb_L7p3hw_cdujd9xK",
      "authorship_tag": "ABX9TyM7hgf5ww58Jtcatrb0n3kA",
      "include_colab_link": true
    },
    "kernelspec": {
      "name": "python3",
      "display_name": "Python 3"
    },
    "language_info": {
      "name": "python"
    }
  },
  "cells": [
    {
      "cell_type": "markdown",
      "metadata": {
        "id": "view-in-github",
        "colab_type": "text"
      },
      "source": [
        "<a href=\"https://colab.research.google.com/github/nomo82/python/blob/main/Unificar_CSV_LocalPC.ipynb\" target=\"_parent\"><img src=\"https://colab.research.google.com/assets/colab-badge.svg\" alt=\"Open In Colab\"/></a>"
      ]
    },
    {
      "cell_type": "code",
      "source": [
        "from google.colab import drive\n",
        "drive.mount('/content/drive')"
      ],
      "metadata": {
        "id": "-CXu03x-tON4"
      },
      "execution_count": null,
      "outputs": []
    },
    {
      "cell_type": "code",
      "execution_count": 8,
      "metadata": {
        "colab": {
          "base_uri": "https://localhost:8080/"
        },
        "id": "OJBLwtZOeA67",
        "outputId": "9b83c37d-4d59-4ec6-c7fa-6baf4d126b40"
      },
      "outputs": [
        {
          "output_type": "stream",
          "name": "stderr",
          "text": [
            "<ipython-input-8-5bba860b4e5a>:18: DtypeWarning: Columns (0,1,3,4,7,13,14,15,16,17,18,19,21,23,25,27,28,29,30,31,32,33,34,36,37,38) have mixed types. Specify dtype option on import or set low_memory=False.\n",
            "  df = pd.read_csv(ruta_completa, sep=';', encoding='utf-8')\n"
          ]
        },
        {
          "output_type": "stream",
          "name": "stdout",
          "text": [
            "Archivo Datos Bogotá Facebook.csv leído correctamente.\n",
            "Archivo Datos Manizales Facebook.csv leído correctamente.\n"
          ]
        },
        {
          "output_type": "stream",
          "name": "stderr",
          "text": [
            "<ipython-input-8-5bba860b4e5a>:18: DtypeWarning: Columns (3) have mixed types. Specify dtype option on import or set low_memory=False.\n",
            "  df = pd.read_csv(ruta_completa, sep=';', encoding='utf-8')\n"
          ]
        },
        {
          "output_type": "stream",
          "name": "stdout",
          "text": [
            "Archivo Datos Pereira Facebook.csv leído correctamente.\n"
          ]
        },
        {
          "output_type": "stream",
          "name": "stderr",
          "text": [
            "<ipython-input-8-5bba860b4e5a>:18: DtypeWarning: Columns (13,14,16,18,20,22,23,24,25,27,28) have mixed types. Specify dtype option on import or set low_memory=False.\n",
            "  df = pd.read_csv(ruta_completa, sep=';', encoding='utf-8')\n"
          ]
        },
        {
          "output_type": "stream",
          "name": "stdout",
          "text": [
            "Archivo Datos Cali Facebook.csv leído correctamente.\n",
            "DataFrame Historico Facebook ADS creado con éxito.\n",
            "  Codigo Proyecto      Fecha registro Estado Nombres  \\\n",
            "0       Bog SOFF2  10/10/2023 0:00:00    New     NaN   \n",
            "1       Bog SOFF2  10/10/2023 0:00:00    New     NaN   \n",
            "2       Bog SOFF2  10/10/2023 0:00:00    New     NaN   \n",
            "3       Bog SOFF2  10/10/2023 0:00:00    New     NaN   \n",
            "4       Bog SOFF2  10/10/2023 0:00:00    New     NaN   \n",
            "\n",
            "                          Apellidos       Celular  \\\n",
            "0            Jaime Sarmiento Garzon  573138899025   \n",
            "1                       Erik Torres  573212451813   \n",
            "2  Jose hipolito Castro castellanos  573215689989   \n",
            "3              David López Martinez  573142091845   \n",
            "4               Yady Xiomara Correa  573142496411   \n",
            "\n",
            "                           Email        origen Autorizacion Habeas  \\\n",
            "0      j.sarmiento.g@hotmail.com  Facebook Ads                  Si   \n",
            "1    lunamariatorres@outlook.com  Facebook Ads                  Si   \n",
            "2        rositaypolo@hotmsil.com  Facebook Ads                  Si   \n",
            "3         david-9721@hotmail.com  Facebook Ads                  Si   \n",
            "4  yadyxiomaracorrea@hotmail.com  Facebook Ads                  Si   \n",
            "\n",
            "  Rango Ingreso  ... last_name phone_number email lead_status  \\\n",
            "0           NaN  ...       NaN          NaN   NaN         NaN   \n",
            "1           NaN  ...       NaN          NaN   NaN         NaN   \n",
            "2           NaN  ...       NaN          NaN   NaN         NaN   \n",
            "3           NaN  ...       NaN          NaN   NaN         NaN   \n",
            "4           NaN  ...       NaN          NaN   NaN         NaN   \n",
            "\n",
            "  Codigo Proyecto  Rango ahorro  Ciudad   id full_name  \n",
            "0              NaN   NaN    NaN  Bogotá  NaN       NaN  \n",
            "1              NaN   NaN    NaN  Bogotá  NaN       NaN  \n",
            "2              NaN   NaN    NaN  Bogotá  NaN       NaN  \n",
            "3              NaN   NaN    NaN  Bogotá  NaN       NaN  \n",
            "4              NaN   NaN    NaN  Bogotá  NaN       NaN  \n",
            "\n",
            "[5 rows x 44 columns]\n",
            "DataFrame Historico Facebook ADS guardado en /content/drive/MyDrive/Alexander Niño.lnk/2025/DB_UpDate_SincoCRM/datos_historico_facebook_ads.csv\n"
          ]
        }
      ],
      "source": [
        "import pandas as pd\n",
        "import os\n",
        "\n",
        "# Definir la ruta donde están almacenados los archivos\n",
        "ruta_archivos = r\"/content/drive/MyDrive/Alexander Niño.lnk/2025/DB_UpDate_SincoCRM\"  # Cambia esto por la ruta correcta\n",
        "\n",
        "# Lista de archivos que deseas unificar\n",
        "archivos = ['Datos Bogotá Facebook.csv', 'Datos Manizales Facebook.csv', 'Datos Pereira Facebook.csv', 'Datos Cali Facebook.csv']\n",
        "\n",
        "# Crear un DataFrame vacío para almacenar los datos combinados\n",
        "df_historico_facebook_ads = pd.DataFrame()\n",
        "\n",
        "# Leer y concatenar cada archivo\n",
        "for archivo in archivos:\n",
        "    ruta_completa = os.path.join(ruta_archivos, archivo)  # Obtener la ruta completa del archivo\n",
        "    try:\n",
        "        # Leer el archivo CSV (ajusta el separador y la codificación si es necesario)\n",
        "        df = pd.read_csv(ruta_completa, sep=';', encoding='utf-8')\n",
        "\n",
        "        # Agregar una columna para identificar la ciudad\n",
        "        df['Ciudad'] = archivo.replace('Datos ', '').replace(' Facebook.csv', '')\n",
        "\n",
        "        # Concatenar al DataFrame principal\n",
        "        df_historico_facebook_ads = pd.concat([df_historico_facebook_ads, df], ignore_index=True)\n",
        "\n",
        "        print(f\"Archivo {archivo} leído correctamente.\")\n",
        "    except pd.errors.EmptyDataError:\n",
        "        print(f\"El archivo {archivo} está vacío.\")\n",
        "    except pd.errors.ParserError:\n",
        "        print(f\"Error al parsear el archivo {archivo}.\")\n",
        "    except Exception as e:\n",
        "        print(f\"Error inesperado al leer el archivo {archivo}: {e}\")\n",
        "\n",
        "# Verificar el DataFrame combinado\n",
        "if not df_historico_facebook_ads.empty:\n",
        "    print(\"DataFrame Historico Facebook ADS creado con éxito.\")\n",
        "    print(df_historico_facebook_ads.head())  # Mostrar las primeras filas del DataFrame combinado\n",
        "else:\n",
        "    print(\"No se pudo crear el DataFrame Historico Facebook ADS.\")\n",
        "\n",
        "# Guardar el DataFrame combinado en un nuevo archivo CSV (opcional)\n",
        "if not df_historico_facebook_ads.empty:\n",
        "    ruta_salida = os.path.join(ruta_archivos, 'datos_historico_facebook_ads.csv')\n",
        "    df_historico_facebook_ads.to_csv(ruta_salida, index=False, sep=';', encoding='utf-8')\n",
        "    print(f\"DataFrame Historico Facebook ADS guardado en {ruta_salida}\")"
      ]
    },
    {
      "cell_type": "code",
      "source": [
        "#Cantidad de datos del DF para la pauta de Facebook ADS\n",
        "df_historico_facebook_ads.index"
      ],
      "metadata": {
        "colab": {
          "base_uri": "https://localhost:8080/"
        },
        "id": "wM0Ppkdnt-oK",
        "outputId": "49f844db-c50c-4ddc-b5bc-971769b45f7e"
      },
      "execution_count": 13,
      "outputs": [
        {
          "output_type": "execute_result",
          "data": {
            "text/plain": [
              "RangeIndex(start=0, stop=724262, step=1)"
            ]
          },
          "metadata": {},
          "execution_count": 13
        }
      ]
    },
    {
      "cell_type": "code",
      "source": [
        "from google.colab import files\n",
        "\n",
        "# Verifica si el DataFrame no está vacío y luego descarga el archivo\n",
        "if not df_historico_facebook_ads.empty:\n",
        "    ruta_salida = os.path.join(ruta_archivos, 'datos_historico_facebook_ads.csv')\n",
        "    df_historico_facebook_ads.to_csv(ruta_salida, index=False, sep=';', encoding='utf-8')\n",
        "    print(f\"DataFrame Historico Facebook ADS guardado en {ruta_salida}\")\n",
        "\n",
        "    # Descargar el archivo a tu PC\n",
        "    files.download(ruta_salida)\n",
        "else:\n",
        "    print(\"No se pudo crear el DataFrame Historico Facebook ADS.\")"
      ],
      "metadata": {
        "colab": {
          "base_uri": "https://localhost:8080/",
          "height": 54
        },
        "id": "jEAOBAWXuc6H",
        "outputId": "f15764ed-28b7-4a2e-cc61-78b576403aac"
      },
      "execution_count": 17,
      "outputs": [
        {
          "output_type": "stream",
          "name": "stdout",
          "text": [
            "DataFrame Historico Facebook ADS guardado en /content/drive/MyDrive/Alexander Niño.lnk/2025/DB_UpDate_SincoCRM/datos_historico_facebook_ads.csv\n"
          ]
        },
        {
          "output_type": "display_data",
          "data": {
            "text/plain": [
              "<IPython.core.display.Javascript object>"
            ],
            "application/javascript": [
              "\n",
              "    async function download(id, filename, size) {\n",
              "      if (!google.colab.kernel.accessAllowed) {\n",
              "        return;\n",
              "      }\n",
              "      const div = document.createElement('div');\n",
              "      const label = document.createElement('label');\n",
              "      label.textContent = `Downloading \"${filename}\": `;\n",
              "      div.appendChild(label);\n",
              "      const progress = document.createElement('progress');\n",
              "      progress.max = size;\n",
              "      div.appendChild(progress);\n",
              "      document.body.appendChild(div);\n",
              "\n",
              "      const buffers = [];\n",
              "      let downloaded = 0;\n",
              "\n",
              "      const channel = await google.colab.kernel.comms.open(id);\n",
              "      // Send a message to notify the kernel that we're ready.\n",
              "      channel.send({})\n",
              "\n",
              "      for await (const message of channel.messages) {\n",
              "        // Send a message to notify the kernel that we're ready.\n",
              "        channel.send({})\n",
              "        if (message.buffers) {\n",
              "          for (const buffer of message.buffers) {\n",
              "            buffers.push(buffer);\n",
              "            downloaded += buffer.byteLength;\n",
              "            progress.value = downloaded;\n",
              "          }\n",
              "        }\n",
              "      }\n",
              "      const blob = new Blob(buffers, {type: 'application/binary'});\n",
              "      const a = document.createElement('a');\n",
              "      a.href = window.URL.createObjectURL(blob);\n",
              "      a.download = filename;\n",
              "      div.appendChild(a);\n",
              "      a.click();\n",
              "      div.remove();\n",
              "    }\n",
              "  "
            ]
          },
          "metadata": {}
        },
        {
          "output_type": "display_data",
          "data": {
            "text/plain": [
              "<IPython.core.display.Javascript object>"
            ],
            "application/javascript": [
              "download(\"download_7acb2582-fcab-479b-9419-47d2f01dbabd\", \"datos_historico_facebook_ads.csv\", 145688992)"
            ]
          },
          "metadata": {}
        }
      ]
    }
  ]
}