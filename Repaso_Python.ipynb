{
  "nbformat": 4,
  "nbformat_minor": 0,
  "metadata": {
    "colab": {
      "provenance": [],
      "authorship_tag": "ABX9TyMcfA9gwDN5VMGFiI2vdkOR",
      "include_colab_link": true
    },
    "kernelspec": {
      "name": "python3",
      "display_name": "Python 3"
    },
    "language_info": {
      "name": "python"
    }
  },
  "cells": [
    {
      "cell_type": "markdown",
      "metadata": {
        "id": "view-in-github",
        "colab_type": "text"
      },
      "source": [
        "<a href=\"https://colab.research.google.com/github/nomo82/python/blob/main/Repaso_Python.ipynb\" target=\"_parent\"><img src=\"https://colab.research.google.com/assets/colab-badge.svg\" alt=\"Open In Colab\"/></a>"
      ]
    },
    {
      "cell_type": "code",
      "execution_count": 4,
      "metadata": {
        "colab": {
          "base_uri": "https://localhost:8080/",
          "height": 109
        },
        "id": "pNVdHKIs4P_v",
        "outputId": "0b5b91a3-356f-4256-d5ad-5867120ae73d"
      },
      "outputs": [
        {
          "output_type": "error",
          "ename": "SyntaxError",
          "evalue": "invalid syntax. Maybe you meant '==' or ':=' instead of '='? (<ipython-input-4-a8e05c657a5b>, line 3)",
          "traceback": [
            "\u001b[0;36m  File \u001b[0;32m\"<ipython-input-4-a8e05c657a5b>\"\u001b[0;36m, line \u001b[0;32m3\u001b[0m\n\u001b[0;31m    dias='20 días de vacaciones',\u001b[0m\n\u001b[0m    ^\u001b[0m\n\u001b[0;31mSyntaxError\u001b[0m\u001b[0;31m:\u001b[0m invalid syntax. Maybe you meant '==' or ':=' instead of '='?\n"
          ]
        }
      ],
      "source": [
        "#Escribir un parrafo String Cuantos días que hicieron y la variable se debe llamar vacaciones\n",
        "vacaciones = {\n",
        "    dias='20 días de vacaciones',\n",
        "    actividad='Fue a practicar deportes extremos antes de finalizar el 2024, en el 2025 fui a Xielo Skydive para un salto en paracaidas. Lo recomeindo bastante. Una experiencia única.'\n",
        "}\n",
        "print (vacaciones[dias])"
      ]
    },
    {
      "cell_type": "code",
      "source": [],
      "metadata": {
        "id": "_kErM7c46IOl"
      },
      "execution_count": null,
      "outputs": []
    },
    {
      "cell_type": "code",
      "source": [
        "#Paises de Europa\n",
        "paises_europa = [\n",
        "    \"Albania\", \"Alemania\", \"Andorra\", \"Armenia\", \"Austria\", \"Azerbaiyán\",\n",
        "    \"Bélgica\", \"Bielorrusia\", \"Bosnia y Herzegovina\", \"Bulgaria\", \"Chipre\",\n",
        "    \"Ciudad del Vaticano\", \"Croacia\", \"Dinamarca\", \"Eslovaquia\", \"Eslovenia\",\n",
        "    \"España\", \"Estonia\", \"Finlandia\", \"Francia\", \"Georgia\", \"Grecia\", \"Hungría\",\n",
        "    \"Irlanda\", \"Islandia\", \"Italia\", \"Kazajistán\", \"Kosovo\", \"Letonia\", \"Liechtenstein\",\n",
        "    \"Lituania\", \"Luxemburgo\", \"Macedonia del Norte\", \"Malta\", \"Moldavia\", \"Mónaco\",\n",
        "    \"Montenegro\", \"Noruega\", \"Países Bajos\", \"Polonia\", \"Portugal\", \"Reino Unido\",\n",
        "    \"República Checa\", \"Rumania\", \"Rusia\", \"San Marino\", \"Serbia\", \"Suecia\",\n",
        "    \"Suiza\", \"Turquía\", \"Ucrania\"\n",
        "]\n",
        "\n",
        "print(paises_europa)"
      ],
      "metadata": {
        "colab": {
          "base_uri": "https://localhost:8080/"
        },
        "id": "ZSZEOrqI6RBT",
        "outputId": "37335c3c-c690-4989-8794-d8adc5274d8d"
      },
      "execution_count": 2,
      "outputs": [
        {
          "output_type": "stream",
          "name": "stdout",
          "text": [
            "['Albania', 'Alemania', 'Andorra', 'Armenia', 'Austria', 'Azerbaiyán', 'Bélgica', 'Bielorrusia', 'Bosnia y Herzegovina', 'Bulgaria', 'Chipre', 'Ciudad del Vaticano', 'Croacia', 'Dinamarca', 'Eslovaquia', 'Eslovenia', 'España', 'Estonia', 'Finlandia', 'Francia', 'Georgia', 'Grecia', 'Hungría', 'Irlanda', 'Islandia', 'Italia', 'Kazajistán', 'Kosovo', 'Letonia', 'Liechtenstein', 'Lituania', 'Luxemburgo', 'Macedonia del Norte', 'Malta', 'Moldavia', 'Mónaco', 'Montenegro', 'Noruega', 'Países Bajos', 'Polonia', 'Portugal', 'Reino Unido', 'República Checa', 'Rumania', 'Rusia', 'San Marino', 'Serbia', 'Suecia', 'Suiza', 'Turquía', 'Ucrania']\n"
          ]
        }
      ]
    },
    {
      "cell_type": "code",
      "source": [
        "#Listar los primeros 20 paises que incluya el 20 del listado\n",
        "paises_europa_1_20=paises_europa[0:21]\n",
        "print(paises_europa_1_20)"
      ],
      "metadata": {
        "colab": {
          "base_uri": "https://localhost:8080/"
        },
        "id": "-FMylHkC7J50",
        "outputId": "7154a724-3128-4a95-9858-71a9a03aa02f"
      },
      "execution_count": 9,
      "outputs": [
        {
          "output_type": "stream",
          "name": "stdout",
          "text": [
            "['Albania', 'Alemania', 'Andorra', 'Armenia', 'Austria', 'Azerbaiyán', 'Bélgica', 'Bielorrusia', 'Bosnia y Herzegovina', 'Bulgaria', 'Chipre', 'Ciudad del Vaticano', 'Croacia', 'Dinamarca', 'Eslovaquia', 'Eslovenia', 'España', 'Estonia', 'Finlandia', 'Francia', 'Georgia']\n"
          ]
        }
      ]
    },
    {
      "cell_type": "code",
      "source": [
        "#Listar los paises del 21 al 40\n",
        "paises_europa_21_41=paises_europa[21:41]\n",
        "print(paises_europa_21_41)"
      ],
      "metadata": {
        "colab": {
          "base_uri": "https://localhost:8080/"
        },
        "id": "pcWsJRAS8B0z",
        "outputId": "7fb4c72e-d084-4f0a-860f-e9dfa357f097"
      },
      "execution_count": 13,
      "outputs": [
        {
          "output_type": "stream",
          "name": "stdout",
          "text": [
            "['Grecia', 'Hungría', 'Irlanda', 'Islandia', 'Italia', 'Kazajistán', 'Kosovo', 'Letonia', 'Liechtenstein', 'Lituania', 'Luxemburgo', 'Macedonia del Norte', 'Malta', 'Moldavia', 'Mónaco', 'Montenegro', 'Noruega', 'Países Bajos', 'Polonia', 'Portugal']\n"
          ]
        }
      ]
    },
    {
      "cell_type": "code",
      "source": [
        "#Listar los paises del 41 al 50\n",
        "paises_europa_41_50=paises_europa[41:50]\n",
        "print(paises_europa_41_50)"
      ],
      "metadata": {
        "colab": {
          "base_uri": "https://localhost:8080/"
        },
        "id": "tMr9hA7X8chA",
        "outputId": "2c9139ab-3345-4086-d0ed-2891e208d977"
      },
      "execution_count": 14,
      "outputs": [
        {
          "output_type": "stream",
          "name": "stdout",
          "text": [
            "['Reino Unido', 'República Checa', 'Rumania', 'Rusia', 'San Marino', 'Serbia', 'Suecia', 'Suiza', 'Turquía']\n"
          ]
        }
      ]
    },
    {
      "cell_type": "code",
      "source": [
        "#Agregar a china en paises Europa\n",
        "paises_europa.append('China')\n",
        "print(paises_europa)"
      ],
      "metadata": {
        "colab": {
          "base_uri": "https://localhost:8080/"
        },
        "id": "86bcVGcu9DuD",
        "outputId": "7acdfa46-f96e-454f-a2d5-48586099d29f"
      },
      "execution_count": 17,
      "outputs": [
        {
          "output_type": "stream",
          "name": "stdout",
          "text": [
            "['Albania', 'Alemania', 'Andorra', 'Armenia', 'Austria', 'Azerbaiyán', 'Bélgica', 'Bielorrusia', 'Bosnia y Herzegovina', 'Bulgaria', 'Chipre', 'Ciudad del Vaticano', 'Croacia', 'Dinamarca', 'Eslovaquia', 'Eslovenia', 'España', 'Estonia', 'Finlandia', 'Francia', 'Georgia', 'Grecia', 'Hungría', 'Irlanda', 'Islandia', 'Italia', 'Kazajistán', 'Kosovo', 'Letonia', 'Liechtenstein', 'Lituania', 'Luxemburgo', 'Macedonia del Norte', 'Malta', 'Moldavia', 'Mónaco', 'Montenegro', 'Noruega', 'Países Bajos', 'Polonia', 'Portugal', 'Reino Unido', 'República Checa', 'Rumania', 'Rusia', 'San Marino', 'Serbia', 'Suecia', 'Suiza', 'Turquía', 'Ucrania', 'China']\n"
          ]
        }
      ]
    },
    {
      "cell_type": "code",
      "source": [
        "#Agregar otro país con el metodo Insert\n",
        "paises_europa.append('Estados Unidos')\n",
        "print(paises_europa)"
      ],
      "metadata": {
        "colab": {
          "base_uri": "https://localhost:8080/"
        },
        "id": "MGmKRW_M9gzQ",
        "outputId": "11ec8f70-495a-44ca-a0f3-4062563432f0"
      },
      "execution_count": 26,
      "outputs": [
        {
          "output_type": "stream",
          "name": "stdout",
          "text": [
            "['Albania', 'Alemania', 'Andorra', 'Armenia', 'Austria', 'Azerbaiyán', 'Bélgica', 'Bielorrusia', 'Bosnia y Herzegovina', 'Bulgaria', 'Chipre', 'Ciudad del Vaticano', 'Croacia', 'Dinamarca', 'Eslovaquia', 'Eslovenia', 'España', 'Estonia', 'Finlandia', 'Francia', 'Georgia', 'Grecia', 'Hungría', 'Irlanda', 'Islandia', 'Italia', 'Kazajistán', 'Kosovo', 'Letonia', 'Liechtenstein', 'Lituania', 'Luxemburgo', 'Macedonia del Norte', 'Malta', 'Moldavia', 'Mónaco', 'Montenegro', 'Noruega', 'Países Bajos', 'Polonia', 'Portugal', 'Reino Unido', 'República Checa', 'Rumania', 'Rusia', 'San Marino', 'Serbia', 'Suecia', 'Suiza', 'Turquía', 'Ucrania', 'China', 'Estados Unidos']\n"
          ]
        }
      ]
    },
    {
      "cell_type": "code",
      "source": [
        "paises_latinoamerica = [\n",
        "    \"Argentina\", \"Belice\", \"Bolivia\", \"Brasil\", \"Chile\", \"Colombia\",\n",
        "    \"Costa Rica\", \"Cuba\", \"Ecuador\", \"El Salvador\", \"Guatemala\",\n",
        "    \"Guyana\", \"Haití\", \"Honduras\", \"Jamaica\", \"México\", \"Nicaragua\",\n",
        "    \"Panamá\", \"Paraguay\", \"Perú\", \"Puerto Rico\", \"República Dominicana\",\n",
        "    \"Surinam\", \"Trinidad y Tobago\", \"Uruguay\", \"Venezuela\"\n",
        "]\n",
        "\n",
        "print(paises_latinoamerica)"
      ],
      "metadata": {
        "colab": {
          "base_uri": "https://localhost:8080/"
        },
        "id": "6AaMzgDM95tX",
        "outputId": "b0ae389b-6e06-4c3a-c006-217b16c3ca71"
      },
      "execution_count": 27,
      "outputs": [
        {
          "output_type": "stream",
          "name": "stdout",
          "text": [
            "['Argentina', 'Belice', 'Bolivia', 'Brasil', 'Chile', 'Colombia', 'Costa Rica', 'Cuba', 'Ecuador', 'El Salvador', 'Guatemala', 'Guyana', 'Haití', 'Honduras', 'Jamaica', 'México', 'Nicaragua', 'Panamá', 'Paraguay', 'Perú', 'Puerto Rico', 'República Dominicana', 'Surinam', 'Trinidad y Tobago', 'Uruguay', 'Venezuela']\n"
          ]
        }
      ]
    },
    {
      "cell_type": "code",
      "source": [
        "#Concatenar la lista de paises_europa y la lista de paises_latinoamerica. Dejarlo en paises completos\n",
        "paises_completos= paises_europa,paises_latinoamerica\n",
        "print(paises_completos)"
      ],
      "metadata": {
        "colab": {
          "base_uri": "https://localhost:8080/"
        },
        "id": "NuB0H6GN-Tex",
        "outputId": "6bbfc114-0353-46df-b776-1a0c466e6a35"
      },
      "execution_count": 28,
      "outputs": [
        {
          "output_type": "stream",
          "name": "stdout",
          "text": [
            "(['Albania', 'Alemania', 'Andorra', 'Armenia', 'Austria', 'Azerbaiyán', 'Bélgica', 'Bielorrusia', 'Bosnia y Herzegovina', 'Bulgaria', 'Chipre', 'Ciudad del Vaticano', 'Croacia', 'Dinamarca', 'Eslovaquia', 'Eslovenia', 'España', 'Estonia', 'Finlandia', 'Francia', 'Georgia', 'Grecia', 'Hungría', 'Irlanda', 'Islandia', 'Italia', 'Kazajistán', 'Kosovo', 'Letonia', 'Liechtenstein', 'Lituania', 'Luxemburgo', 'Macedonia del Norte', 'Malta', 'Moldavia', 'Mónaco', 'Montenegro', 'Noruega', 'Países Bajos', 'Polonia', 'Portugal', 'Reino Unido', 'República Checa', 'Rumania', 'Rusia', 'San Marino', 'Serbia', 'Suecia', 'Suiza', 'Turquía', 'Ucrania', 'China', 'Estados Unidos'], ['Argentina', 'Belice', 'Bolivia', 'Brasil', 'Chile', 'Colombia', 'Costa Rica', 'Cuba', 'Ecuador', 'El Salvador', 'Guatemala', 'Guyana', 'Haití', 'Honduras', 'Jamaica', 'México', 'Nicaragua', 'Panamá', 'Paraguay', 'Perú', 'Puerto Rico', 'República Dominicana', 'Surinam', 'Trinidad y Tobago', 'Uruguay', 'Venezuela'])\n"
          ]
        }
      ]
    },
    {
      "cell_type": "code",
      "source": [
        "#Crear tres cajas para ingresar datos y que se creen en una lista\n",
        "nombre_completo=input('Nombre Completo')\n",
        "identificacion=input('Digite su numero de ID')\n",
        "edad=input('Edad')\n",
        "datos=[nombre_completo,identificacion,edad]\n",
        "print(datos)"
      ],
      "metadata": {
        "colab": {
          "base_uri": "https://localhost:8080/"
        },
        "id": "kKhX64i_-wrn",
        "outputId": "4f544457-6b80-4daa-e7ea-69ad031cc82d"
      },
      "execution_count": 32,
      "outputs": [
        {
          "output_type": "stream",
          "name": "stdout",
          "text": [
            "Nombre CompletoAlexander Niño \n",
            "Digite su numero de ID80721930\n",
            "Edad43\n",
            "['Alexander Niño ', '80721930', '43']\n"
          ]
        }
      ]
    },
    {
      "cell_type": "code",
      "source": [],
      "metadata": {
        "id": "ktR7LlmR_k0y"
      },
      "execution_count": null,
      "outputs": []
    }
  ]
}